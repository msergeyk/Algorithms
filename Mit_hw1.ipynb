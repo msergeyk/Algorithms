{
 "cells": [
  {
   "cell_type": "markdown",
   "metadata": {},
   "source": [
    "**Общая информация**\n",
    "\n",
    "**Срок сдачи:** 20 марта 2019, 06:00 <br\\>\n",
    "**Штраф за опоздание:** -1 балл после 06:00 20 марта, -2 балла после 06:00 27 марта, -3 балла после 06:00 3 апреля\n",
    "\n",
    "При отправлении ДЗ указывайте фамилию в названии файла\n",
    "Присылать ДЗ необходимо в виде ссылки на свой github репозиторий в slack @alkhamush\n",
    "\n",
    "Необходимо в slack скинуть ссылку в личный чат @alkhamush\n",
    "Пример ссылки:\n",
    "https://github.com/stroykova/spheremailru/stroykova_hw1.ipynb \n",
    "\n",
    "\n",
    "Используйте данный Ipython Notebook при оформлении домашнего задания."
   ]
  },
  {
   "cell_type": "markdown",
   "metadata": {},
   "source": [
    "###### Задание 1 (2 баллов)\n",
    "Реализовать KNN в классе MyKNeighborsClassifier (обязательное условие: точность не ниже sklearn реализации)\n",
    "Разберитесь самостоятельно, какая мера расстояния используется в KNeighborsClassifier дефолтно и реализуйте свой алгоритм именно с этой мерой. Самостоятельно разберитесь, как считается score из KNeighborsClassifier и реализуйте аналог в своём классе. Score не должен уступать значению KNN из sklearn\n",
    "\n",
    "###### Задание 2 (2 балла)\n",
    "Добиться скорости работы на fit,  predict и predict_proba сравнимой со sklearn для iris и mnist\n",
    "Для этого используем numpy\n",
    "\n",
    "###### Задание 3 (2 балла)\n",
    "Для iris найдите такой параметр n_neighbors, при котором выдаётся наилучший score. Нарисуйте график зависимости score от n_neighbors\n",
    "\n",
    "###### Задание 4 (3 балла)\n",
    "Добавить algorithm='kd_tree' в реализацию KNN (использовать KDTree из sklearn.neighbors). Значение n_neighbors нужно взять из задания 3. Добиться скорости работы на fit,  predict и predict_proba сравнимой со sklearn для iris и mnist\n",
    "Для этого используем numpy. Score не должен уступать значению KNN из sklearn\n",
    "\n",
    "###### Задание 5 (1 балла)\n",
    "Описать для чего нужны следующие библиотеки/классы/функции (список будет ниже)\n",
    "\n",
    "**Штрафные баллы:**\n",
    "\n",
    "1. Невыполнение PEP8 -1 балл\n",
    "2. Отсутствие фамилии в имени скрипта (скрипт должен называться по аналогии со stroykova_hw1.ipynb) -1 балл\n",
    "3. Все строчки должны быть выполнены. Нужно, чтобы output команды можно было увидеть уже в git'е. В противном случае -1 балл\n",
    "4. При оформлении ДЗ нужно пользоваться данным файлом в качестве шаблона. Не нужно удалять и видоизменять структуру кода и текст. В противном случае -1 балл\n"
   ]
  },
  {
   "cell_type": "code",
   "execution_count": 1,
   "metadata": {},
   "outputs": [],
   "source": [
    "import numpy as np\n",
    "import matplotlib.pyplot as plt\n",
    "\n",
    "import seaborn as sns\n",
    "from sklearn import datasets\n",
    "from sklearn.base import ClassifierMixin\n",
    "from sklearn.datasets import fetch_openml\n",
    "from sklearn.neighbors.base import NeighborsBase, KNeighborsMixin, SupervisedIntegerMixin \n",
    "from sklearn.model_selection import train_test_split\n",
    "from sklearn.neighbors import KNeighborsClassifier\n",
    "from sklearn.neighbors import KDTree\n",
    "%load_ext pycodestyle_magic"
   ]
  },
  {
   "cell_type": "code",
   "execution_count": 2,
   "metadata": {},
   "outputs": [],
   "source": [
    "#%%pycodestyle\n",
    "\n",
    "\n",
    "class MyKNeighborsClassifier(NeighborsBase, KNeighborsMixin,\n",
    "                             SupervisedIntegerMixin, ClassifierMixin):\n",
    "\n",
    "    def __init__(self, n_neighbors, algorithm='brute'):\n",
    "        self.n_neighbors = n_neighbors\n",
    "        self.algorithm = algorithm\n",
    "\n",
    "    def fit(self, X, y):\n",
    "        self.Xtr = np.asarray(X)\n",
    "        self.ytr = np.asarray(y)\n",
    "        return self\n",
    "\n",
    "    def predict(self, X):\n",
    "        if self.algorithm == 'kd_tree':\n",
    "            X = np.asarray(X)\n",
    "            y = np.zeros(len(X))\n",
    "            ind = KDTree(self.Xtr).query(X, k=self.n_neighbors,\n",
    "                                         return_distance=False)\n",
    "\n",
    "            def f(a):\n",
    "                lab, count = np.unique(a, return_counts=True)\n",
    "                return lab[np.argmax(count)]\n",
    "            y = np.apply_along_axis(f, 1, self.ytr[ind])\n",
    "            return y\n",
    "        else:\n",
    "            X = np.asarray(X)\n",
    "            y = np.zeros(len(X))\n",
    "            dist = (np.sum(X ** 2, axis=1).reshape(-1, 1) - 2 * X @ self.Xtr.T\n",
    "                    + np.sum(self.Xtr ** 2, axis=1).reshape(1, -1))\n",
    "            ind = np.argpartition(dist, self.n_neighbors - 1, axis=1)\n",
    "\n",
    "            def f(a):\n",
    "                lab, count = np.unique(a, return_counts=True)\n",
    "                return lab[np.argmax(count)]\n",
    "            y = np.apply_along_axis(f, 1, self.ytr[ind][:, 0:self.n_neighbors])\n",
    "            return y\n",
    "\n",
    "    def predict_proba(self, X):\n",
    "        if self.algorithm == 'kd_tree':\n",
    "            X = np.asarray(X)\n",
    "            y = np.zeros(len(X))\n",
    "            uni = np.unique(self.ytr)\n",
    "            ind = KDTree(self.Xtr).query(X, k=self.n_neighbors,\n",
    "                                         return_distance=False)\n",
    "\n",
    "            def f(a):\n",
    "                proba = []\n",
    "                for i, el in enumerate(uni):\n",
    "                    proba.append(np.sum(np.fromiter((e == el for e in a),\n",
    "                                                    int)) / self.n_neighbors)\n",
    "                return proba\n",
    "            y = np.apply_along_axis(f, 1, self.ytr[ind])\n",
    "            return y\n",
    "        else:\n",
    "            X = np.asarray(X)\n",
    "            y = np.zeros(len(X))\n",
    "            uni = np.unique(self.ytr)\n",
    "            dist = (np.sum(X ** 2, axis=1).reshape(-1, 1) - 2 * X @ self.Xtr.T\n",
    "                    + np.sum(self.Xtr ** 2, axis=1).reshape(1, -1))\n",
    "            ind = np.argpartition(dist, self.n_neighbors - 1, axis=1)\n",
    "\n",
    "            def f(a):\n",
    "                proba = []\n",
    "                for i, el in enumerate(uni):\n",
    "                    proba.append(np.sum(np.fromiter((e == el for e in a),\n",
    "                                                    int)) / self.n_neighbors)\n",
    "                return proba\n",
    "            y = np.apply_along_axis(f, 1, self.ytr[ind][:, 0:self.n_neighbors])\n",
    "            return y\n",
    "\n",
    "    def score(self, X, y):\n",
    "        y = np.asarray(y)\n",
    "        return np.sum(y == self.predict(X)) / len(y)"
   ]
  },
  {
   "cell_type": "markdown",
   "metadata": {},
   "source": [
    "**IRIS**"
   ]
  },
  {
   "cell_type": "code",
   "execution_count": 3,
   "metadata": {},
   "outputs": [],
   "source": [
    "iris = datasets.load_iris()"
   ]
  },
  {
   "cell_type": "code",
   "execution_count": 4,
   "metadata": {},
   "outputs": [],
   "source": [
    "X_train, X_test, y_train, y_test = train_test_split(iris.data, iris.target, test_size=0.1, stratify=iris.target)"
   ]
  },
  {
   "cell_type": "code",
   "execution_count": 5,
   "metadata": {},
   "outputs": [],
   "source": [
    "clf = KNeighborsClassifier(n_neighbors=2, algorithm='brute')\n",
    "my_clf = MyKNeighborsClassifier(n_neighbors=2)"
   ]
  },
  {
   "cell_type": "code",
   "execution_count": 6,
   "metadata": {},
   "outputs": [
    {
     "name": "stdout",
     "output_type": "stream",
     "text": [
      "Wall time: 997 µs\n"
     ]
    },
    {
     "data": {
      "text/plain": [
       "KNeighborsClassifier(algorithm='brute', leaf_size=30, metric='minkowski',\n",
       "           metric_params=None, n_jobs=None, n_neighbors=2, p=2,\n",
       "           weights='uniform')"
      ]
     },
     "execution_count": 6,
     "metadata": {},
     "output_type": "execute_result"
    }
   ],
   "source": [
    "%time clf.fit(X_train, y_train)"
   ]
  },
  {
   "cell_type": "code",
   "execution_count": 7,
   "metadata": {},
   "outputs": [
    {
     "name": "stdout",
     "output_type": "stream",
     "text": [
      "Wall time: 0 ns\n"
     ]
    },
    {
     "data": {
      "text/plain": [
       "MyKNeighborsClassifier(algorithm='brute', n_neighbors=2)"
      ]
     },
     "execution_count": 7,
     "metadata": {},
     "output_type": "execute_result"
    }
   ],
   "source": [
    "%time my_clf.fit(X_train, y_train)"
   ]
  },
  {
   "cell_type": "code",
   "execution_count": 8,
   "metadata": {},
   "outputs": [
    {
     "name": "stdout",
     "output_type": "stream",
     "text": [
      "Wall time: 4.99 ms\n"
     ]
    },
    {
     "data": {
      "text/plain": [
       "array([1, 1, 1, 0, 2, 2, 1, 2, 0, 0, 1, 1, 2, 0, 0])"
      ]
     },
     "execution_count": 8,
     "metadata": {},
     "output_type": "execute_result"
    }
   ],
   "source": [
    "%time clf.predict(X_test)"
   ]
  },
  {
   "cell_type": "code",
   "execution_count": 9,
   "metadata": {},
   "outputs": [
    {
     "name": "stdout",
     "output_type": "stream",
     "text": [
      "Wall time: 0 ns\n"
     ]
    },
    {
     "data": {
      "text/plain": [
       "array([1, 1, 1, 0, 2, 2, 1, 2, 0, 0, 1, 1, 2, 0, 0])"
      ]
     },
     "execution_count": 9,
     "metadata": {},
     "output_type": "execute_result"
    }
   ],
   "source": [
    "%time my_clf.predict(X_test)"
   ]
  },
  {
   "cell_type": "code",
   "execution_count": 10,
   "metadata": {},
   "outputs": [
    {
     "name": "stdout",
     "output_type": "stream",
     "text": [
      "Wall time: 997 µs\n"
     ]
    },
    {
     "data": {
      "text/plain": [
       "array([[0. , 1. , 0. ],\n",
       "       [0. , 1. , 0. ],\n",
       "       [0. , 1. , 0. ],\n",
       "       [1. , 0. , 0. ],\n",
       "       [0. , 0. , 1. ],\n",
       "       [0. , 0. , 1. ],\n",
       "       [0. , 0.5, 0.5],\n",
       "       [0. , 0. , 1. ],\n",
       "       [1. , 0. , 0. ],\n",
       "       [1. , 0. , 0. ],\n",
       "       [0. , 1. , 0. ],\n",
       "       [0. , 1. , 0. ],\n",
       "       [0. , 0. , 1. ],\n",
       "       [1. , 0. , 0. ],\n",
       "       [1. , 0. , 0. ]])"
      ]
     },
     "execution_count": 10,
     "metadata": {},
     "output_type": "execute_result"
    }
   ],
   "source": [
    "%time clf.predict_proba(X_test)"
   ]
  },
  {
   "cell_type": "code",
   "execution_count": 11,
   "metadata": {},
   "outputs": [
    {
     "name": "stdout",
     "output_type": "stream",
     "text": [
      "Wall time: 999 µs\n"
     ]
    },
    {
     "data": {
      "text/plain": [
       "array([[0. , 1. , 0. ],\n",
       "       [0. , 1. , 0. ],\n",
       "       [0. , 1. , 0. ],\n",
       "       [1. , 0. , 0. ],\n",
       "       [0. , 0. , 1. ],\n",
       "       [0. , 0. , 1. ],\n",
       "       [0. , 0.5, 0.5],\n",
       "       [0. , 0. , 1. ],\n",
       "       [1. , 0. , 0. ],\n",
       "       [1. , 0. , 0. ],\n",
       "       [0. , 1. , 0. ],\n",
       "       [0. , 1. , 0. ],\n",
       "       [0. , 0. , 1. ],\n",
       "       [1. , 0. , 0. ],\n",
       "       [1. , 0. , 0. ]])"
      ]
     },
     "execution_count": 11,
     "metadata": {},
     "output_type": "execute_result"
    }
   ],
   "source": [
    "%time my_clf.predict_proba(X_test)"
   ]
  },
  {
   "cell_type": "code",
   "execution_count": 12,
   "metadata": {},
   "outputs": [
    {
     "data": {
      "text/plain": [
       "0.8"
      ]
     },
     "execution_count": 12,
     "metadata": {},
     "output_type": "execute_result"
    }
   ],
   "source": [
    "clf.score(X_test, y_test)"
   ]
  },
  {
   "cell_type": "code",
   "execution_count": 13,
   "metadata": {},
   "outputs": [
    {
     "data": {
      "text/plain": [
       "0.8"
      ]
     },
     "execution_count": 13,
     "metadata": {},
     "output_type": "execute_result"
    }
   ],
   "source": [
    "my_clf.score(X_test, y_test)"
   ]
  },
  {
   "cell_type": "markdown",
   "metadata": {},
   "source": [
    "Задание 3"
   ]
  },
  {
   "cell_type": "code",
   "execution_count": 14,
   "metadata": {},
   "outputs": [
    {
     "data": {
      "text/plain": [
       "Text(0, 0.5, 'n_neighbors')"
      ]
     },
     "execution_count": 14,
     "metadata": {},
     "output_type": "execute_result"
    },
    {
     "data": {
      "image/png": "[encoded data removed]",
      "text/plain": [
       "<Figure size 432x288 with 1 Axes>"
      ]
     },
     "metadata": {
      "needs_background": "light"
     },
     "output_type": "display_data"
    }
   ],
   "source": [
    "#%%pycodestyle\n",
    "\n",
    "\n",
    "nb = range(1, 101)\n",
    "score = [0]*100\n",
    "for el in nb:\n",
    "    KNN = MyKNeighborsClassifier(n_neighbors=el)\n",
    "    KNN.fit(X_train, y_train)\n",
    "    score[el-1] = KNN.score(X_test, y_test)\n",
    "fig = plt.figure()\n",
    "ax = plt.subplot()\n",
    "plt.plot(nb, score)\n",
    "ax.set_xlabel('score')\n",
    "ax.set_ylabel('n_neighbors')"
   ]
  },
  {
   "cell_type": "markdown",
   "metadata": {},
   "source": [
    "**MNIST**"
   ]
  },
  {
   "cell_type": "code",
   "execution_count": 15,
   "metadata": {},
   "outputs": [],
   "source": [
    "mnist = fetch_openml('mnist_784')"
   ]
  },
  {
   "cell_type": "code",
   "execution_count": 16,
   "metadata": {},
   "outputs": [],
   "source": [
    "X_train, X_test, y_train, y_test = train_test_split(mnist.data, mnist.target, test_size=0.01, stratify=mnist.target)"
   ]
  },
  {
   "cell_type": "code",
   "execution_count": 17,
   "metadata": {},
   "outputs": [],
   "source": [
    "clf = KNeighborsClassifier(n_neighbors=2, algorithm='brute')\n",
    "my_clf = MyKNeighborsClassifier(n_neighbors=2)"
   ]
  },
  {
   "cell_type": "code",
   "execution_count": 18,
   "metadata": {},
   "outputs": [
    {
     "name": "stdout",
     "output_type": "stream",
     "text": [
      "Wall time: 183 ms\n"
     ]
    },
    {
     "data": {
      "text/plain": [
       "KNeighborsClassifier(algorithm='brute', leaf_size=30, metric='minkowski',\n",
       "           metric_params=None, n_jobs=None, n_neighbors=2, p=2,\n",
       "           weights='uniform')"
      ]
     },
     "execution_count": 18,
     "metadata": {},
     "output_type": "execute_result"
    }
   ],
   "source": [
    "%time clf.fit(X_train, y_train)"
   ]
  },
  {
   "cell_type": "code",
   "execution_count": 19,
   "metadata": {},
   "outputs": [
    {
     "name": "stdout",
     "output_type": "stream",
     "text": [
      "Wall time: 0 ns\n"
     ]
    },
    {
     "data": {
      "text/plain": [
       "MyKNeighborsClassifier(algorithm='brute', n_neighbors=2)"
      ]
     },
     "execution_count": 19,
     "metadata": {},
     "output_type": "execute_result"
    }
   ],
   "source": [
    "%time my_clf.fit(X_train, y_train)"
   ]
  },
  {
   "cell_type": "code",
   "execution_count": 20,
   "metadata": {},
   "outputs": [
    {
     "name": "stdout",
     "output_type": "stream",
     "text": [
      "Wall time: 1.27 s\n"
     ]
    },
    {
     "data": {
      "text/plain": [
       "array(['4', '0', '7', '2', '5', '2', '7', '4', '3', '1', '3', '3', '7',\n",
       "       '3', '8', '9', '1', '5', '4', '1', '0', '9', '0', '4', '3', '9',\n",
       "       '0', '0', '8', '2', '9', '7', '6', '2', '1', '4', '6', '4', '3',\n",
       "       '4', '8', '5', '5', '6', '5', '2', '1', '0', '8', '6', '6', '2',\n",
       "       '6', '5', '3', '5', '1', '7', '2', '0', '4', '7', '3', '9', '2',\n",
       "       '3', '9', '4', '7', '1', '3', '2', '2', '6', '9', '0', '9', '9',\n",
       "       '9', '8', '3', '8', '3', '6', '1', '2', '3', '7', '0', '7', '7',\n",
       "       '7', '1', '6', '4', '9', '1', '5', '1', '4', '6', '4', '7', '2',\n",
       "       '2', '4', '1', '1', '2', '2', '9', '7', '9', '1', '9', '8', '1',\n",
       "       '7', '7', '3', '1', '5', '9', '5', '3', '9', '4', '3', '2', '5',\n",
       "       '8', '5', '0', '3', '4', '5', '3', '4', '6', '9', '3', '8', '9',\n",
       "       '4', '3', '8', '6', '1', '2', '4', '0', '2', '1', '2', '7', '4',\n",
       "       '3', '8', '6', '1', '4', '6', '3', '3', '1', '0', '3', '2', '0',\n",
       "       '0', '1', '9', '5', '4', '7', '6', '5', '1', '5', '0', '2', '5',\n",
       "       '8', '8', '9', '5', '9', '6', '7', '4', '7', '7', '4', '8', '9',\n",
       "       '1', '7', '5', '2', '7', '8', '3', '0', '1', '4', '1', '5', '1',\n",
       "       '7', '9', '5', '3', '3', '0', '3', '8', '5', '0', '6', '8', '9',\n",
       "       '0', '5', '8', '6', '2', '7', '8', '1', '2', '4', '3', '7', '2',\n",
       "       '0', '4', '4', '7', '9', '8', '8', '1', '9', '6', '5', '7', '7',\n",
       "       '9', '9', '8', '0', '0', '1', '3', '4', '6', '0', '6', '9', '3',\n",
       "       '0', '3', '9', '2', '6', '4', '8', '7', '5', '6', '2', '0', '3',\n",
       "       '8', '6', '6', '4', '8', '2', '9', '7', '1', '1', '7', '1', '8',\n",
       "       '1', '6', '5', '1', '1', '1', '1', '0', '7', '3', '2', '0', '6',\n",
       "       '7', '0', '8', '3', '1', '6', '4', '3', '2', '8', '3', '9', '4',\n",
       "       '2', '2', '9', '5', '4', '1', '6', '9', '9', '0', '8', '9', '1',\n",
       "       '6', '5', '6', '2', '4', '6', '5', '7', '2', '1', '8', '9', '5',\n",
       "       '7', '3', '4', '8', '3', '2', '1', '6', '4', '8', '5', '4', '2',\n",
       "       '4', '1', '6', '1', '5', '0', '0', '0', '2', '3', '3', '6', '0',\n",
       "       '1', '1', '1', '9', '6', '8', '7', '0', '5', '9', '5', '6', '0',\n",
       "       '4', '5', '6', '5', '7', '4', '0', '9', '0', '4', '4', '6', '7',\n",
       "       '7', '7', '2', '6', '0', '6', '4', '7', '3', '1', '9', '9', '7',\n",
       "       '9', '3', '0', '3', '4', '7', '0', '8', '5', '8', '3', '5', '1',\n",
       "       '4', '3', '8', '1', '6', '4', '7', '2', '0', '0', '5', '2', '6',\n",
       "       '0', '4', '7', '1', '5', '5', '8', '8', '2', '1', '4', '7', '2',\n",
       "       '3', '1', '3', '0', '3', '2', '4', '7', '0', '3', '7', '0', '6',\n",
       "       '9', '2', '4', '6', '9', '3', '3', '9', '5', '1', '6', '3', '1',\n",
       "       '3', '9', '9', '4', '1', '7', '8', '2', '5', '5', '0', '4', '2',\n",
       "       '3', '6', '7', '3', '8', '7', '3', '0', '4', '2', '8', '9', '4',\n",
       "       '6', '9', '7', '3', '0', '1', '2', '8', '1', '6', '6', '8', '7',\n",
       "       '6', '7', '2', '1', '7', '8', '5', '3', '5', '5', '9', '5', '6',\n",
       "       '7', '4', '5', '9', '0', '5', '1', '7', '9', '1', '3', '2', '1',\n",
       "       '7', '4', '0', '7', '2', '2', '1', '4', '1', '2', '7', '0', '4',\n",
       "       '1', '9', '1', '2', '3', '3', '6', '9', '4', '4', '9', '6', '8',\n",
       "       '6', '9', '7', '1', '0', '5', '6', '3', '8', '6', '1', '7', '5',\n",
       "       '9', '6', '9', '7', '0', '9', '4', '0', '1', '1', '3', '4', '0',\n",
       "       '2', '9', '9', '6', '1', '4', '5', '3', '5', '7', '1', '2', '0',\n",
       "       '1', '0', '2', '5', '2', '6', '1', '8', '5', '0', '1', '3', '3',\n",
       "       '8', '7', '7', '6', '2', '2', '8', '8', '7', '8', '0', '1', '6',\n",
       "       '6', '1', '1', '7', '1', '0', '6', '8', '5', '3', '1', '5', '8',\n",
       "       '0', '8', '2', '2', '2', '9', '0', '4', '2', '2', '4', '3', '2',\n",
       "       '0', '6', '6', '8', '3', '0', '8', '8', '6', '9', '8', '5', '8',\n",
       "       '3', '0', '6', '2', '0', '1', '7', '9', '3', '0', '8', '2', '0',\n",
       "       '9', '7', '3', '3', '7', '2', '6', '5', '5', '2', '3', '4', '7',\n",
       "       '4', '7', '5', '0', '5', '1', '2', '0', '4', '5', '1'],\n",
       "      dtype=object)"
      ]
     },
     "execution_count": 20,
     "metadata": {},
     "output_type": "execute_result"
    }
   ],
   "source": [
    "%time clf.predict(X_test)"
   ]
  },
  {
   "cell_type": "code",
   "execution_count": 21,
   "metadata": {},
   "outputs": [
    {
     "name": "stdout",
     "output_type": "stream",
     "text": [
      "Wall time: 1.61 s\n"
     ]
    },
    {
     "data": {
      "text/plain": [
       "array(['4', '0', '7', '2', '5', '2', '7', '4', '3', '1', '3', '3', '7',\n",
       "       '3', '8', '9', '1', '5', '4', '1', '0', '9', '0', '4', '3', '9',\n",
       "       '0', '0', '8', '2', '9', '7', '6', '2', '1', '4', '6', '4', '3',\n",
       "       '4', '8', '5', '5', '6', '5', '2', '1', '0', '8', '6', '6', '2',\n",
       "       '6', '5', '3', '5', '1', '7', '2', '0', '4', '7', '3', '9', '2',\n",
       "       '3', '9', '4', '7', '1', '3', '2', '2', '6', '9', '0', '9', '9',\n",
       "       '9', '8', '3', '8', '3', '6', '1', '2', '3', '7', '0', '7', '7',\n",
       "       '7', '1', '6', '4', '9', '1', '5', '1', '4', '6', '4', '7', '2',\n",
       "       '2', '4', '1', '1', '2', '2', '9', '7', '9', '1', '9', '8', '1',\n",
       "       '7', '7', '3', '1', '5', '9', '5', '3', '9', '4', '3', '2', '5',\n",
       "       '8', '5', '0', '3', '4', '5', '3', '4', '6', '9', '3', '8', '9',\n",
       "       '4', '3', '8', '6', '1', '2', '4', '0', '2', '1', '2', '7', '4',\n",
       "       '3', '8', '6', '1', '4', '6', '3', '3', '1', '0', '3', '2', '0',\n",
       "       '0', '1', '9', '5', '4', '7', '6', '5', '1', '5', '0', '2', '5',\n",
       "       '8', '8', '9', '5', '9', '6', '7', '4', '7', '7', '4', '8', '9',\n",
       "       '1', '7', '5', '2', '7', '8', '3', '0', '1', '4', '1', '5', '1',\n",
       "       '7', '9', '5', '3', '3', '0', '3', '8', '5', '0', '6', '8', '9',\n",
       "       '0', '5', '8', '6', '2', '7', '8', '1', '2', '4', '3', '7', '2',\n",
       "       '0', '4', '4', '7', '9', '8', '8', '1', '9', '6', '5', '7', '7',\n",
       "       '9', '9', '8', '0', '0', '1', '3', '4', '6', '0', '6', '9', '3',\n",
       "       '0', '3', '9', '2', '6', '4', '8', '7', '5', '6', '2', '0', '3',\n",
       "       '8', '6', '6', '4', '8', '2', '9', '7', '1', '1', '7', '1', '8',\n",
       "       '1', '6', '5', '1', '1', '1', '1', '0', '7', '3', '2', '0', '6',\n",
       "       '7', '0', '8', '3', '1', '6', '4', '3', '2', '8', '3', '9', '4',\n",
       "       '2', '2', '9', '5', '4', '1', '6', '9', '9', '0', '8', '9', '1',\n",
       "       '6', '5', '6', '2', '4', '6', '5', '7', '2', '1', '8', '9', '5',\n",
       "       '7', '3', '4', '8', '3', '2', '1', '6', '4', '8', '5', '4', '2',\n",
       "       '4', '1', '6', '1', '5', '0', '0', '0', '2', '3', '3', '6', '0',\n",
       "       '1', '1', '1', '9', '6', '8', '7', '0', '5', '9', '5', '6', '0',\n",
       "       '4', '5', '6', '5', '7', '4', '0', '9', '0', '4', '4', '6', '7',\n",
       "       '7', '7', '2', '6', '0', '6', '4', '7', '3', '1', '9', '9', '7',\n",
       "       '9', '3', '0', '3', '4', '7', '0', '8', '5', '8', '3', '5', '1',\n",
       "       '4', '3', '8', '1', '6', '4', '7', '2', '0', '0', '5', '2', '6',\n",
       "       '0', '4', '7', '1', '5', '5', '8', '8', '2', '1', '4', '7', '2',\n",
       "       '3', '1', '3', '0', '3', '2', '4', '7', '0', '3', '7', '0', '6',\n",
       "       '9', '2', '4', '6', '9', '3', '3', '9', '5', '1', '6', '3', '1',\n",
       "       '3', '9', '9', '4', '1', '7', '8', '2', '5', '5', '0', '4', '2',\n",
       "       '3', '6', '7', '3', '8', '7', '3', '0', '4', '2', '8', '9', '4',\n",
       "       '6', '9', '7', '3', '0', '1', '2', '8', '1', '6', '6', '8', '7',\n",
       "       '6', '7', '2', '1', '7', '8', '5', '3', '5', '5', '9', '5', '6',\n",
       "       '7', '4', '5', '9', '0', '5', '1', '7', '9', '1', '3', '2', '1',\n",
       "       '7', '4', '0', '7', '2', '2', '1', '4', '1', '2', '7', '0', '4',\n",
       "       '1', '9', '1', '2', '3', '3', '6', '9', '4', '4', '9', '6', '8',\n",
       "       '6', '9', '7', '1', '0', '5', '6', '3', '8', '6', '1', '7', '5',\n",
       "       '9', '6', '9', '7', '0', '9', '4', '0', '1', '1', '3', '4', '0',\n",
       "       '2', '9', '9', '6', '1', '4', '5', '3', '5', '7', '1', '2', '0',\n",
       "       '1', '0', '2', '5', '2', '6', '1', '8', '5', '0', '1', '3', '3',\n",
       "       '8', '7', '7', '6', '2', '2', '8', '8', '7', '8', '0', '1', '6',\n",
       "       '6', '1', '1', '7', '1', '0', '6', '8', '5', '3', '1', '5', '8',\n",
       "       '0', '8', '2', '2', '2', '9', '0', '4', '2', '2', '4', '3', '2',\n",
       "       '0', '6', '6', '8', '3', '0', '8', '8', '6', '9', '8', '5', '8',\n",
       "       '3', '0', '6', '2', '0', '1', '7', '9', '3', '0', '8', '2', '0',\n",
       "       '9', '7', '3', '3', '7', '2', '6', '5', '5', '2', '3', '4', '7',\n",
       "       '4', '7', '5', '0', '5', '1', '2', '0', '4', '5', '1'], dtype='<U1')"
      ]
     },
     "execution_count": 21,
     "metadata": {},
     "output_type": "execute_result"
    }
   ],
   "source": [
    "%time my_clf.predict(X_test)"
   ]
  },
  {
   "cell_type": "code",
   "execution_count": 22,
   "metadata": {},
   "outputs": [
    {
     "name": "stdout",
     "output_type": "stream",
     "text": [
      "Wall time: 1.18 s\n"
     ]
    },
    {
     "data": {
      "text/plain": [
       "array([[0., 0., 0., ..., 0., 0., 0.],\n",
       "       [1., 0., 0., ..., 0., 0., 0.],\n",
       "       [0., 0., 0., ..., 1., 0., 0.],\n",
       "       ...,\n",
       "       [0., 0., 0., ..., 0., 0., 0.],\n",
       "       [0., 0., 0., ..., 0., 0., 0.],\n",
       "       [0., 1., 0., ..., 0., 0., 0.]])"
      ]
     },
     "execution_count": 22,
     "metadata": {},
     "output_type": "execute_result"
    }
   ],
   "source": [
    "%time clf.predict_proba(X_test)"
   ]
  },
  {
   "cell_type": "code",
   "execution_count": 23,
   "metadata": {},
   "outputs": [
    {
     "name": "stdout",
     "output_type": "stream",
     "text": [
      "Wall time: 1.63 s\n"
     ]
    },
    {
     "data": {
      "text/plain": [
       "array([[0., 0., 0., ..., 0., 0., 0.],\n",
       "       [1., 0., 0., ..., 0., 0., 0.],\n",
       "       [0., 0., 0., ..., 1., 0., 0.],\n",
       "       ...,\n",
       "       [0., 0., 0., ..., 0., 0., 0.],\n",
       "       [0., 0., 0., ..., 0., 0., 0.],\n",
       "       [0., 1., 0., ..., 0., 0., 0.]])"
      ]
     },
     "execution_count": 23,
     "metadata": {},
     "output_type": "execute_result"
    }
   ],
   "source": [
    "%time my_clf.predict_proba(X_test)"
   ]
  },
  {
   "cell_type": "code",
   "execution_count": 24,
   "metadata": {},
   "outputs": [
    {
     "data": {
      "text/plain": [
       "0.9671428571428572"
      ]
     },
     "execution_count": 24,
     "metadata": {},
     "output_type": "execute_result"
    }
   ],
   "source": [
    "clf.score(X_test, y_test)"
   ]
  },
  {
   "cell_type": "code",
   "execution_count": 25,
   "metadata": {},
   "outputs": [
    {
     "data": {
      "text/plain": [
       "0.9671428571428572"
      ]
     },
     "execution_count": 25,
     "metadata": {},
     "output_type": "execute_result"
    }
   ],
   "source": [
    "my_clf.score(X_test, y_test)"
   ]
  },
  {
   "cell_type": "markdown",
   "metadata": {},
   "source": [
    "Задание 4"
   ]
  },
  {
   "cell_type": "code",
   "execution_count": 26,
   "metadata": {},
   "outputs": [],
   "source": [
    "clf = KNeighborsClassifier(n_neighbors=2, algorithm='kd_tree')\n",
    "my_clf = MyKNeighborsClassifier(n_neighbors=2, algorithm='kd_tree')"
   ]
  },
  {
   "cell_type": "code",
   "execution_count": 27,
   "metadata": {},
   "outputs": [],
   "source": [
    "X_train, X_test, y_train, y_test = train_test_split(mnist.data, mnist.target, test_size=0.01, stratify=mnist.target)"
   ]
  },
  {
   "cell_type": "code",
   "execution_count": 28,
   "metadata": {},
   "outputs": [
    {
     "name": "stdout",
     "output_type": "stream",
     "text": [
      "Wall time: 19.8 s\n"
     ]
    },
    {
     "data": {
      "text/plain": [
       "KNeighborsClassifier(algorithm='kd_tree', leaf_size=30, metric='minkowski',\n",
       "           metric_params=None, n_jobs=None, n_neighbors=2, p=2,\n",
       "           weights='uniform')"
      ]
     },
     "execution_count": 28,
     "metadata": {},
     "output_type": "execute_result"
    }
   ],
   "source": [
    "%time clf.fit(X_train, y_train)"
   ]
  },
  {
   "cell_type": "code",
   "execution_count": 29,
   "metadata": {},
   "outputs": [
    {
     "name": "stdout",
     "output_type": "stream",
     "text": [
      "Wall time: 0 ns\n"
     ]
    },
    {
     "data": {
      "text/plain": [
       "MyKNeighborsClassifier(algorithm='kd_tree', n_neighbors=2)"
      ]
     },
     "execution_count": 29,
     "metadata": {},
     "output_type": "execute_result"
    }
   ],
   "source": [
    "%time my_clf.fit(X_train, y_train)"
   ]
  },
  {
   "cell_type": "code",
   "execution_count": 30,
   "metadata": {},
   "outputs": [
    {
     "name": "stdout",
     "output_type": "stream",
     "text": [
      "Wall time: 58.5 s\n"
     ]
    },
    {
     "data": {
      "text/plain": [
       "array(['7', '2', '1', '2', '2', '5', '2', '7', '3', '1', '3', '4', '8',\n",
       "       '4', '5', '2', '0', '9', '4', '7', '3', '2', '6', '3', '1', '3',\n",
       "       '2', '5', '4', '9', '2', '0', '6', '6', '9', '4', '1', '3', '8',\n",
       "       '9', '8', '0', '3', '2', '2', '9', '9', '5', '4', '0', '8', '4',\n",
       "       '3', '6', '4', '7', '0', '2', '4', '2', '9', '6', '0', '4', '8',\n",
       "       '3', '0', '3', '9', '4', '8', '0', '2', '5', '2', '9', '9', '8',\n",
       "       '6', '1', '2', '1', '6', '1', '4', '3', '8', '6', '4', '1', '1',\n",
       "       '7', '4', '8', '3', '1', '1', '9', '6', '8', '7', '6', '0', '0',\n",
       "       '7', '7', '8', '6', '3', '9', '0', '2', '6', '3', '6', '7', '1',\n",
       "       '9', '7', '6', '7', '5', '2', '1', '5', '6', '4', '8', '5', '3',\n",
       "       '2', '6', '2', '9', '3', '3', '5', '4', '2', '7', '6', '7', '2',\n",
       "       '8', '8', '5', '6', '0', '0', '2', '4', '5', '6', '3', '4', '7',\n",
       "       '5', '0', '5', '4', '1', '6', '0', '3', '2', '0', '3', '0', '8',\n",
       "       '3', '7', '5', '5', '9', '3', '6', '6', '1', '9', '9', '0', '6',\n",
       "       '9', '6', '7', '1', '3', '6', '2', '0', '7', '2', '1', '5', '4',\n",
       "       '8', '9', '9', '7', '9', '3', '7', '5', '0', '8', '9', '6', '8',\n",
       "       '4', '0', '1', '5', '0', '7', '5', '0', '4', '5', '0', '3', '7',\n",
       "       '4', '3', '3', '7', '9', '7', '2', '2', '4', '0', '2', '8', '9',\n",
       "       '5', '1', '4', '1', '2', '8', '6', '9', '4', '6', '9', '9', '0',\n",
       "       '1', '5', '1', '7', '5', '8', '0', '7', '5', '6', '8', '0', '6',\n",
       "       '7', '7', '3', '8', '7', '5', '3', '3', '8', '3', '3', '4', '5',\n",
       "       '6', '5', '7', '3', '1', '5', '1', '4', '0', '7', '0', '4', '6',\n",
       "       '4', '9', '1', '2', '6', '6', '2', '2', '7', '9', '0', '7', '2',\n",
       "       '2', '7', '3', '2', '2', '5', '9', '8', '9', '5', '5', '4', '1',\n",
       "       '8', '2', '0', '2', '5', '4', '5', '8', '7', '7', '7', '7', '7',\n",
       "       '7', '2', '1', '8', '1', '1', '9', '8', '4', '7', '9', '6', '3',\n",
       "       '8', '1', '4', '2', '2', '4', '1', '7', '4', '6', '0', '2', '7',\n",
       "       '0', '7', '3', '1', '5', '5', '3', '8', '8', '9', '7', '3', '3',\n",
       "       '8', '0', '7', '6', '2', '8', '8', '0', '4', '9', '4', '0', '8',\n",
       "       '9', '3', '4', '0', '1', '8', '8', '3', '0', '2', '7', '8', '1',\n",
       "       '9', '4', '3', '0', '3', '8', '1', '4', '4', '1', '5', '4', '4',\n",
       "       '5', '0', '0', '5', '2', '6', '0', '7', '2', '1', '4', '6', '4',\n",
       "       '1', '5', '8', '1', '5', '7', '1', '7', '5', '4', '2', '3', '4',\n",
       "       '4', '3', '5', '0', '8', '4', '7', '0', '3', '3', '4', '1', '0',\n",
       "       '9', '4', '5', '3', '6', '5', '0', '9', '0', '1', '3', '0', '2',\n",
       "       '4', '5', '6', '0', '0', '5', '1', '2', '0', '3', '1', '9', '4',\n",
       "       '7', '8', '6', '9', '6', '8', '0', '7', '7', '6', '8', '1', '4',\n",
       "       '0', '6', '4', '3', '2', '3', '5', '8', '5', '6', '4', '1', '3',\n",
       "       '1', '8', '1', '1', '2', '5', '6', '9', '1', '1', '2', '6', '6',\n",
       "       '1', '8', '1', '5', '2', '2', '8', '2', '6', '9', '5', '4', '5',\n",
       "       '9', '1', '3', '7', '3', '1', '2', '1', '7', '8', '3', '6', '9',\n",
       "       '9', '7', '9', '0', '4', '4', '7', '4', '1', '3', '1', '7', '1',\n",
       "       '9', '3', '9', '1', '9', '9', '2', '3', '4', '0', '3', '0', '5',\n",
       "       '6', '6', '7', '9', '0', '7', '4', '2', '1', '8', '6', '5', '3',\n",
       "       '0', '5', '9', '5', '9', '1', '9', '2', '0', '0', '7', '3', '2',\n",
       "       '0', '2', '0', '0', '8', '1', '4', '1', '0', '1', '7', '9', '8',\n",
       "       '5', '4', '0', '7', '1', '1', '1', '1', '2', '6', '9', '6', '9',\n",
       "       '9', '3', '4', '1', '6', '1', '6', '6', '4', '4', '3', '0', '1',\n",
       "       '4', '7', '3', '2', '4', '6', '3', '7', '6', '8', '3', '9', '3',\n",
       "       '7', '6', '5', '5', '5', '7', '1', '5', '0', '1', '8', '8', '2',\n",
       "       '2', '1', '8', '7', '6', '9', '6', '4', '8', '9', '8', '0', '9',\n",
       "       '8', '7', '7', '1', '6', '9', '6', '1', '3', '0', '3', '8', '2',\n",
       "       '9', '7', '6', '5', '1', '8', '7', '0', '9', '6', '6', '5', '8',\n",
       "       '8', '9', '1', '6', '9', '3', '7', '9', '2', '3', '2'],\n",
       "      dtype=object)"
      ]
     },
     "execution_count": 30,
     "metadata": {},
     "output_type": "execute_result"
    }
   ],
   "source": [
    "%time clf.predict(X_test)"
   ]
  },
  {
   "cell_type": "code",
   "execution_count": 31,
   "metadata": {},
   "outputs": [
    {
     "name": "stdout",
     "output_type": "stream",
     "text": [
      "Wall time: 1min 7s\n"
     ]
    },
    {
     "data": {
      "text/plain": [
       "array(['7', '2', '1', '2', '2', '5', '2', '7', '3', '1', '3', '4', '8',\n",
       "       '4', '5', '2', '0', '9', '4', '7', '3', '2', '6', '3', '1', '3',\n",
       "       '2', '5', '4', '9', '2', '0', '6', '6', '9', '4', '1', '3', '8',\n",
       "       '9', '8', '0', '3', '2', '2', '9', '9', '5', '4', '0', '8', '4',\n",
       "       '3', '6', '4', '7', '0', '2', '4', '2', '9', '6', '0', '4', '8',\n",
       "       '3', '0', '3', '9', '4', '8', '0', '2', '5', '2', '9', '9', '8',\n",
       "       '6', '1', '2', '1', '6', '1', '4', '3', '8', '6', '4', '1', '1',\n",
       "       '7', '4', '8', '3', '1', '1', '9', '6', '8', '7', '6', '0', '0',\n",
       "       '7', '7', '8', '6', '3', '9', '0', '2', '6', '3', '6', '7', '1',\n",
       "       '9', '7', '6', '7', '5', '2', '1', '5', '6', '4', '8', '5', '3',\n",
       "       '2', '6', '2', '9', '3', '3', '5', '4', '2', '7', '6', '7', '2',\n",
       "       '8', '8', '5', '6', '0', '0', '2', '4', '5', '6', '3', '4', '7',\n",
       "       '5', '0', '5', '4', '1', '6', '0', '3', '2', '0', '3', '0', '8',\n",
       "       '3', '7', '5', '5', '9', '3', '6', '6', '1', '9', '9', '0', '6',\n",
       "       '9', '6', '7', '1', '3', '6', '2', '0', '7', '2', '1', '5', '4',\n",
       "       '8', '9', '9', '7', '9', '3', '7', '5', '0', '8', '9', '6', '8',\n",
       "       '4', '0', '1', '5', '0', '7', '5', '0', '4', '5', '0', '3', '7',\n",
       "       '4', '3', '3', '7', '9', '7', '2', '2', '4', '0', '2', '8', '9',\n",
       "       '5', '1', '4', '1', '2', '8', '6', '9', '4', '6', '9', '9', '0',\n",
       "       '1', '5', '1', '7', '5', '8', '0', '7', '5', '6', '8', '0', '6',\n",
       "       '7', '7', '3', '8', '7', '5', '3', '3', '8', '3', '3', '4', '5',\n",
       "       '6', '5', '7', '3', '1', '5', '1', '4', '0', '7', '0', '4', '6',\n",
       "       '4', '9', '1', '2', '6', '6', '2', '2', '7', '9', '0', '7', '2',\n",
       "       '2', '7', '3', '2', '2', '5', '9', '8', '9', '5', '5', '4', '1',\n",
       "       '8', '2', '0', '2', '5', '4', '5', '8', '7', '7', '7', '7', '7',\n",
       "       '7', '2', '1', '8', '1', '1', '9', '8', '4', '7', '9', '6', '3',\n",
       "       '8', '1', '4', '2', '2', '4', '1', '7', '4', '6', '0', '2', '7',\n",
       "       '0', '7', '3', '1', '5', '5', '3', '8', '8', '9', '7', '3', '3',\n",
       "       '8', '0', '7', '6', '2', '8', '8', '0', '4', '9', '4', '0', '8',\n",
       "       '9', '3', '4', '0', '1', '8', '8', '3', '0', '2', '7', '8', '1',\n",
       "       '9', '4', '3', '0', '3', '8', '1', '4', '4', '1', '5', '4', '4',\n",
       "       '5', '0', '0', '5', '2', '6', '0', '7', '2', '1', '4', '6', '4',\n",
       "       '1', '5', '8', '1', '5', '7', '1', '7', '5', '4', '2', '3', '4',\n",
       "       '4', '3', '5', '0', '8', '4', '7', '0', '3', '3', '4', '1', '0',\n",
       "       '9', '4', '5', '3', '6', '5', '0', '9', '0', '1', '3', '0', '2',\n",
       "       '4', '5', '6', '0', '0', '5', '1', '2', '0', '3', '1', '9', '4',\n",
       "       '7', '8', '6', '9', '6', '8', '0', '7', '7', '6', '8', '1', '4',\n",
       "       '0', '6', '4', '3', '2', '3', '5', '8', '5', '6', '4', '1', '3',\n",
       "       '1', '8', '1', '1', '2', '5', '6', '9', '1', '1', '2', '6', '6',\n",
       "       '1', '8', '1', '5', '2', '2', '8', '2', '6', '9', '5', '4', '5',\n",
       "       '9', '1', '3', '7', '3', '1', '2', '1', '7', '8', '3', '6', '9',\n",
       "       '9', '7', '9', '0', '4', '4', '7', '4', '1', '3', '1', '7', '1',\n",
       "       '9', '3', '9', '1', '9', '9', '2', '3', '4', '0', '3', '0', '5',\n",
       "       '6', '6', '7', '9', '0', '7', '4', '2', '1', '8', '6', '5', '3',\n",
       "       '0', '5', '9', '5', '9', '1', '9', '2', '0', '0', '7', '3', '2',\n",
       "       '0', '2', '0', '0', '8', '1', '4', '1', '0', '1', '7', '9', '8',\n",
       "       '5', '4', '0', '7', '1', '1', '1', '1', '2', '6', '9', '6', '9',\n",
       "       '9', '3', '4', '1', '6', '1', '6', '6', '4', '4', '3', '0', '1',\n",
       "       '4', '7', '3', '2', '4', '6', '3', '7', '6', '8', '3', '9', '3',\n",
       "       '7', '6', '5', '5', '5', '7', '1', '5', '0', '1', '8', '8', '2',\n",
       "       '2', '1', '8', '7', '6', '9', '6', '4', '8', '9', '8', '0', '9',\n",
       "       '8', '7', '7', '1', '6', '9', '6', '1', '3', '0', '3', '8', '2',\n",
       "       '9', '7', '6', '5', '1', '8', '7', '0', '9', '6', '6', '5', '8',\n",
       "       '8', '9', '1', '6', '9', '3', '7', '9', '2', '3', '2'], dtype='<U1')"
      ]
     },
     "execution_count": 31,
     "metadata": {},
     "output_type": "execute_result"
    }
   ],
   "source": [
    "%time my_clf.predict(X_test)"
   ]
  },
  {
   "cell_type": "code",
   "execution_count": 32,
   "metadata": {},
   "outputs": [
    {
     "name": "stdout",
     "output_type": "stream",
     "text": [
      "Wall time: 58.3 s\n"
     ]
    },
    {
     "data": {
      "text/plain": [
       "array([[0., 0., 0., ..., 1., 0., 0.],\n",
       "       [0., 0., 1., ..., 0., 0., 0.],\n",
       "       [0., 1., 0., ..., 0., 0., 0.],\n",
       "       ...,\n",
       "       [0., 0., 1., ..., 0., 0., 0.],\n",
       "       [0., 0., 0., ..., 0., 0., 0.],\n",
       "       [0., 0., 1., ..., 0., 0., 0.]])"
      ]
     },
     "execution_count": 32,
     "metadata": {},
     "output_type": "execute_result"
    }
   ],
   "source": [
    "%time clf.predict_proba(X_test)"
   ]
  },
  {
   "cell_type": "code",
   "execution_count": 33,
   "metadata": {},
   "outputs": [
    {
     "name": "stdout",
     "output_type": "stream",
     "text": [
      "Wall time: 1min 7s\n"
     ]
    },
    {
     "data": {
      "text/plain": [
       "array([[0., 0., 0., ..., 1., 0., 0.],\n",
       "       [0., 0., 1., ..., 0., 0., 0.],\n",
       "       [0., 1., 0., ..., 0., 0., 0.],\n",
       "       ...,\n",
       "       [0., 0., 1., ..., 0., 0., 0.],\n",
       "       [0., 0., 0., ..., 0., 0., 0.],\n",
       "       [0., 0., 1., ..., 0., 0., 0.]])"
      ]
     },
     "execution_count": 33,
     "metadata": {},
     "output_type": "execute_result"
    }
   ],
   "source": [
    "%time my_clf.predict_proba(X_test)"
   ]
  },
  {
   "cell_type": "code",
   "execution_count": 34,
   "metadata": {},
   "outputs": [
    {
     "data": {
      "text/plain": [
       "0.9785714285714285"
      ]
     },
     "execution_count": 34,
     "metadata": {},
     "output_type": "execute_result"
    }
   ],
   "source": [
    "clf.score(X_test, y_test)"
   ]
  },
  {
   "cell_type": "code",
   "execution_count": 35,
   "metadata": {},
   "outputs": [
    {
     "data": {
      "text/plain": [
       "0.9785714285714285"
      ]
     },
     "execution_count": 35,
     "metadata": {},
     "output_type": "execute_result"
    }
   ],
   "source": [
    "my_clf.score(X_test, y_test)"
   ]
  },
  {
   "cell_type": "markdown",
   "metadata": {},
   "source": [
    "Задание 5"
   ]
  },
  {
   "cell_type": "code",
   "execution_count": null,
   "metadata": {},
   "outputs": [],
   "source": [
    "# seaborn\n",
    "    #Seaborn - это библиотека визуализации данных Python, основанная на matplotlib.\n",
    "    #Она предоставляет высокоуровневый интерфейс для рисования привлекательной\n",
    "    #и информативной статистической графики.\n",
    "# matplotlib\n",
    "    #Библиотека для визуализации данных двумерной и трехмерной графикой.\n",
    "# train_test_split\n",
    "    #Разбивает dataset на случайные подмноженства train и test в необходимом соотношении.\n",
    "# Pipelin%load_ext e (from sklearn.pipeline import Pipeline)\n",
    "    #Последовательное сцепление нескольких преобразований.\n",
    "# StandardScaler (from sklearn.preprocessing import StandardScaler)\n",
    "    #Стандартизация признаков(вычесть среднее и поделить на стандартное отклонение)\n",
    "# ClassifierMixin\n",
    "    #Наследуемый класс, в нем содержится метод score.\n",
    "# NeighborsBase\n",
    "    #Наследуемый класс, в нем содержатся конструктор классификаторов, \n",
    "    #методы обучения, определения алгоритма поиска соседей.\n",
    "# KNeighborsMixin\n",
    "    #Наследуемый класс, в нем содержатся методы для вычисления расстояний, \n",
    "    #поиска индексов соседей, построения графов соседей.\n",
    "# SupervisedIntegerMixin\n",
    "    #Наследуемый класс, в нем содержится метод обучения в случае целых целевых переменных."
   ]
  }
 ],
 "metadata": {
  "kernelspec": {
   "display_name": "Python 3",
   "language": "python",
   "name": "python3"
  },
  "language_info": {
   "codemirror_mode": {
    "name": "ipython",
    "version": 3
   },
   "file_extension": ".py",
   "mimetype": "text/x-python",
   "name": "python",
   "nbconvert_exporter": "python",
   "pygments_lexer": "ipython3",
   "version": "3.7.1"
  }
 },
 "nbformat": 4,
 "nbformat_minor": 2
}

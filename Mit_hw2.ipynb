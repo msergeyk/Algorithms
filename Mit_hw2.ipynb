{
 "cells": [
  {
   "cell_type": "markdown",
   "metadata": {},
   "source": [
    "# Алгоритмы интеллектуальной обработки больших объемов данных\n",
    "## Домашнее задание №3: Линейные модели\n"
   ]
  },
  {
   "cell_type": "markdown",
   "metadata": {},
   "source": [
    "###### <hr\\>\n",
    "**Общая информация**\n",
    "\n",
    "**Срок сдачи:** 8 апреля 2019, 06:00 <br\\>\n",
    "**Штраф за опоздание:** -2 балла после 06:00 8 апреля, -4 балла после 06:00 15 апреля, -6 баллов после 06:00 22 апреля  -8 баллов после 06:00 29 апреля.\n",
    "\n",
    "При отправлении ДЗ указывайте фамилию в названии файла<br\\>\n",
    "\n",
    "Используйте данный Ipython Notebook при оформлении домашнего задания.\n",
    "\n",
    "**Штрафные баллы:**\n",
    "\n",
    "1. Невыполнение PEP8 -1 балл\n",
    "2. Отсутствие фамилии в имени скрипта (скрипт должен называться по аналогии со stroykova_hw2.ipynb) -1 балл\n",
    "3. Все строчки должны быть выполнены. Нужно, чтобы output команды можно было увидеть уже в git'е. В противном случае -1 балл\n",
    "4. При оформлении ДЗ нужно пользоваться данным файлом в качестве шаблона. Не нужно удалять и видоизменять написанный код и текст, если явно не указана такая возможность. В противном случае -1 балл\n",
    "<hr\\>"
   ]
  },
  {
   "cell_type": "code",
   "execution_count": 1,
   "metadata": {
    "collapsed": true
   },
   "outputs": [],
   "source": [
    "import pandas as pd\n",
    "import numpy as np\n",
    "import matplotlib.pyplot as plt\n",
    "\n",
    "%matplotlib inline\n",
    "\n",
    "plt.style.use('ggplot')\n",
    "plt.rcParams['figure.figsize'] = (12, 5)\n",
    "%load_ext pycodestyle_magic"
   ]
  },
  {
   "cell_type": "markdown",
   "metadata": {},
   "source": [
    "Здравствуйте, уважаемые студенты! \n",
    "\n",
    "В этом задании мы будем реализовать линейные модели. Необходимо реализовать линейную и логистическую регрессии с L2 регуляризацией"
   ]
  },
  {
   "cell_type": "markdown",
   "metadata": {},
   "source": [
    "# Теоретическое введение\n",
    "\n"
   ]
  },
  {
   "cell_type": "markdown",
   "metadata": {},
   "source": [
    "*** Что почитать по теории ***\n",
    "\n",
    "Одна из лучших книг по ML $-$ \"Pattern Recognition and Machine Learning\" Bishop, Christopher. "
   ]
  },
  {
   "cell_type": "markdown",
   "metadata": {},
   "source": [
    "Линейная регрессия решает задачу регрессии и оптимизирует функцию потерь MSE \n",
    "\n",
    "$$L(w) =  \\frac{1}{N}\\left[\\sum_i (y_i - a_i) ^ 2 \\right], $$ где $y_i$ $-$ целевая функция,  $a_i = a(x_i) =  \\langle\\,x_i,w\\rangle ,$ $-$ предсказание алгоритма на объекте $x_i$, $w$ $-$ вектор весов (размерности $D$), $x_i$ $-$ вектор признаков (такой же размерности $D$).\n"
   ]
  },
  {
   "cell_type": "markdown",
   "metadata": {},
   "source": [
    "Логистическая регрессия является линейным классификатором, который оптимизирует так называемый функционал log loss:"
   ]
  },
  {
   "cell_type": "markdown",
   "metadata": {},
   "source": [
    "$$L(w) = - \\frac{1}{N}\\left[\\sum_i y_i \\log a_i + ( 1 - y_i) \\log (1 - a_i) \\right],$$\n",
    "где  $y_i  \\in \\{0,1\\}$ $-$ метка класса, $a_i$ $-$ предсказание алгоритма на объекте $x_i$. Модель пытается предсказать апостериорую вероятность объекта принадлежать к классу \"1\":\n",
    "$$ p(y_i = 1 | x_i) = a(x_i) =  \\sigma( \\langle\\,x_i,w\\rangle ),$$\n",
    "$w$ $-$ вектор весов (размерности $D$), $x_i$ $-$ вектор признаков (такой же размерности $D$).\n",
    "\n",
    "Функция $\\sigma(x)$ $-$ нелинейная функция, пероводящее скалярное произведение объекта на веса в число $\\in (0,1)$ (мы же моделируем вероятность все-таки!)\n",
    "\n",
    "$$\\sigma(x) = \\frac{1}{1 + \\exp(-x)}$$\n",
    "\n",
    "Если внимательно посмотреть на функцию потерь, то можно заметить, что в зависимости от правильного ответа алгоритм штрафуется или функцией $-\\log a_i$, или функцией $-\\log (1 - a_i)$.\n",
    "\n"
   ]
  },
  {
   "cell_type": "markdown",
   "metadata": {},
   "source": [
    "Часто для решения проблем, которые так или иначе связаны с проблемой переобучения, в функционал качества добавляют слагаемое, которое называют ***регуляризацией***. Итоговый функционал для линейной регрессии тогда принимает вид:\n",
    "\n",
    "$$L(w) =  \\frac{1}{N}\\left[\\sum_i (y_i - a_i) ^ 2 \\right] + \\frac{1}{C}R(w) $$\n",
    "\n",
    "Для логистической: \n",
    "$$L(w) = - \\frac{1}{N}\\left[\\sum_i y_i \\log a_i + ( 1 - y_i) \\log (1 - a_i) \\right] +  \\frac{1}{C}R(w)$$\n",
    "\n",
    "Самое понятие регуляризации введено основателем ВМК академиком Тихоновым https://ru.wikipedia.org/wiki/Метод_регуляризации_Тихонова\n",
    "\n",
    "Идейно методика регуляризации заключается в следующем $-$ мы рассматриваем некорректно поставленную задачу (что это такое можно найти в интернете), для того чтобы сузить набор различных вариантов (лучшие из которых будут являться переобучением ) мы вводим дополнительные ограничения на множество искомых решений. На лекции Вы уже рассмотрели два варианта регуляризации.\n",
    "\n",
    "$L1$ регуляризация:\n",
    "$$R(w) = \\sum_{j=1}^{D}|w_j|$$\n",
    "$L2$ регуляризация:\n",
    "$$R(w) =  \\sum_{j=1}^{D}w_j^2$$\n",
    "\n",
    "С их помощью мы ограничиваем модель в  возможности выбора каких угодно весов минимизирующих наш лосс, модель уже не сможет подстроиться под данные как ей угодно. \n",
    "\n",
    "Вам нужно добавить соотвествущую Вашему варианту $L2$ регуляризацию.\n",
    "\n",
    "И так, мы поняли, какую функцию ошибки будем минимизировать, разобрались, как получить предсказания по объекту и обученным весам. Осталось разобраться, как получить оптимальные веса. Для этого нужно выбрать какой-то метод оптимизации.\n",
    "\n"
   ]
  },
  {
   "cell_type": "markdown",
   "metadata": {},
   "source": [
    "Градиентный спуск является самым популярным алгоритмом обучения линейных моделей. В этом задании Вам предложат реализовать стохастический градиентный спуск или  мини-батч градиентный спуск (мини-батч на русский язык довольно сложно перевести, многие переводят это как \"пакетный\", но мне не кажется этот перевод удачным). Далее нам потребуется определение **эпохи**.\n",
    "Эпохой в SGD и MB-GD называется один проход по **всем** объектам в обучающей выборки.\n",
    "* В SGD градиент расчитывается по одному случайному объекту. Сам алгоритм выглядит примерно так:\n",
    "        1) Перемешать выборку\n",
    "        2) Посчитать градиент функции потерь на одном объекте (далее один объект тоже будем называть батчем)\n",
    "        3) Сделать шаг спуска\n",
    "        4) Повторять 2) и 3) пока не пройдет максимальное число эпох.\n",
    "* В Mini Batch SGD - по подвыборке объектов. Сам алгоритм выглядит примерно так::\n",
    "        1) Перемешать выборку, выбрать размер мини-батча (от 1 до размера выборки)\n",
    "        2) Почитать градиент функции потерь по мини-батчу (не забыть поделить на  число объектов в мини-батче)\n",
    "        3) Сделать шаг спуска\n",
    "        4) Повторять 2) и 3) пока не пройдет максимальное число эпох.\n",
    "* Для отладки алгоритма реализуйте возможность  вывода средней ошибки на обучении модели по объектам (мини-батчам). После шага градиентного спуска посчитайте значение ошибки на объекте (или мини-батче), а затем усредните, например, по ста шагам. Если обучение проходит корректно, то мы должны увидеть, что каждые 100 шагов функция потерь уменьшается. \n",
    "* Правило останова - максимальное количество эпох\n",
    "    \n"
   ]
  },
  {
   "cell_type": "markdown",
   "metadata": {},
   "source": [
    "# Теоретические вопросы (2 балла)\n",
    "В этой части Вам будут предложены теоретичские вопросы и задачи по теме. Вы, конечно, можете списать их у своего товарища или найти решение в интернете, но учтите, что они обязательно войдут в теоретический коллоквиум. Лучше разобраться в теме сейчас и успешно ответить на коллоквиуме, чем списать, не разобравшись в материале, и быть терзаемым совестью. \n",
    "\n",
    "\n",
    "Формулы надо оформлять в формате **LaTeX**."
   ]
  },
  {
   "cell_type": "markdown",
   "metadata": {},
   "source": [
    "Задача 1. Градиент для линейной регрессии.\n",
    "* Выпишите формулу обновления весов для линейной регрессии с L2 регуляризацией для мини-батч градиентого спуска размера $n$:\n",
    "\n",
    "$$ w_{new} = w_{old} - ... $$\n",
    "\n",
    " Отнеситесь к этому пункту максимально серьезно, это Вам нужно будет реализовать в задании.\n",
    " \n",
    "Проанализруйте итоговую формулу градиента - как  интуитивно можно  описать, чему равен градиент?"
   ]
  },
  {
   "cell_type": "markdown",
   "metadata": {},
   "source": [
    "***Ваше решение здесь***\n",
    "* $$ w_{new} = w_{old} - 2\\alpha\\left(\\frac{1}{n}X_{batch}^T(X_{batch}w_{old} - y_{batch}) + \\frac{w_{old}}{C}\\right) $$\n",
    "* Если ошибка предсказания 0 - мы пришли, куда нужно, $X_{batch}w_{old} - y_{batch}$ зануляется, веса не меняются. Если не 0 - то мы обновляем веса."
   ]
  },
  {
   "cell_type": "markdown",
   "metadata": {},
   "source": [
    "Задача 2. Градиент для логистической регрессии.\n",
    "* Выпишите формулу обновления весов для логистической регрессии с L2 регуляризацией  для мини-батч градиентого спуска размера $n$:\n",
    "\n",
    "$$ w_{new} = w_{old} - ... $$\n",
    "\n",
    " Отнеситесь к этому пункту максимально серьезно, это Вам нужно будет реализовать в задании.\n",
    " \n",
    "Проанализруйте итоговую формулу градиента - как  интуитивно можно  описать, чему равен градиент? Как соотносится этот градиент с градиентом, возникающий в задаче линейной регрессии?\n"
   ]
  },
  {
   "cell_type": "markdown",
   "metadata": {},
   "source": [
    "***Ваше решение здесь***\n",
    "* $$ w_{new} = w_{old} - \\alpha\\left(\\frac{1}{n}X_{batch}^T(\\sigma(X_{batch}w_{old})-y_{batch}) +  \\frac{2w_{old}}{C}\\right) $$\n",
    "* Инуитивное описание такое же, как и в случае линейной регрессии. Формулы для градиентов очень похожи и отличаются лишь предсказанием модели."
   ]
  },
  {
   "cell_type": "markdown",
   "metadata": {},
   "source": [
    "Задача 3. Точное решение линейной регрессии\n",
    "\n",
    "На лекции было показано, что точное решение линейной регрессии имеет вид $w = (X^TX)^{-1}X^TY $. \n",
    "* Покажите, что это действительно является точкой минимума в случае, если матрица X имеет строк не меньше, чем столбцов и имеет полный ранг. Подсказка: посчитайте Гессиан и покажите, что в этом случае он положительно определен. \n",
    "* Выпишите точное решение для модели с $L2$ регуляризацией"
   ]
  },
  {
   "cell_type": "markdown",
   "metadata": {},
   "source": [
    "***Ваше решение здесь***\n",
    "$$\\frac{\\partial Q(w)}{\\partial w} = \\frac{2}{N}X^TXw - 2X^Ty$$\n",
    "\n",
    "$$\\frac{\\partial^2 Q(w)}{\\partial w^2} = \\frac{2}{N}X^TX$$\n",
    "Матрица А называется положительно определенной, если $\\forall x \\ne 0: x^TAx > 0$\n",
    "\n",
    "В нашем случае А это $X^TX$\n",
    "\n",
    "$x^TX^TXx = (Xx)^TXx = z^Tz = \\parallel z \\parallel^2 \\geq 0$\n",
    "\n",
    "Пусть матрица Х имеет m строк и n столбцов, причем $m \\geq n$ и имеет полный ранг, то есть n.\n",
    "\n",
    "Нам нужно показать, что $Xx$ строго больше нуля. Пусть $Xx = 0$. Тогда мы имеем систему из m уравнений с n неизвестными. Так как все уравнения линейно независимы (полный ранг), система решений не имеет (кроме тривиального). Получаем, что гессиан положительно определен.\n",
    "\n",
    "Точное решение для модели с L2 регуляризацией $$w = (X^TX+\\frac{1}{C}I)^{-1}X^Ty $$"
   ]
  },
  {
   "cell_type": "markdown",
   "metadata": {},
   "source": [
    "Задача 4.  Предсказываем вероятности.\n",
    "\n",
    "Когда говорят о логистической регрессии, произносят фразу, что она \"предсказывает вероятности положительного класса\". Давайте разберемся, что же за этим стоит. Посчитаем математическое ожидание функции потерь и проверим, что предсказание алгоритма, оптимизирующее это мат. ожидание, будет являться вероятностью положительного класса. \n",
    "\n",
    "И так, функция потерь на объекте $x_i$, который имеет метку $y_i \\in \\{0,1\\}$  для предсказания $a(x_i)$ равна:\n",
    "$$L(y_i, b) =-[y_i == 1] \\log a(x_i)  - [y_i == 0] \\log(1 - a(x_i)) $$\n",
    "\n",
    "Где $[]$ означает индикатор $-$ он равен единице, если значение внутри него истинно, иначе он равен нулю. Тогда мат. ожидание при условии конкретного $x_i$  по определение мат. ожидания дискретной случайной величины:\n",
    "$$E(L | x_i) = -p(y_i = 1 |x_i ) \\log a(x_i)  - p(y_i = 0 | x_i) \\log( 1 - a(x_i))$$\n",
    "* Докажите, что значение $a(x_i)$, минимизирующее данное мат. ожидание, в точности равно $p(y_i = 1 |x_i)$, то есть равно вероятности положительного класса.\n",
    "\n",
    "Подсказка: возможно, придется воспользоваться, что  $p(y_i = 1 | x_i) + p(y_i = 0 | x_i) = 1$"
   ]
  },
  {
   "cell_type": "markdown",
   "metadata": {},
   "source": [
    "$$E(L | x_i) = -p\\log a(x_i)  - (1-p)\\log( 1 - a(x_i))$$\n",
    "$$E'_a = -\\frac{p}{a} + \\frac{1-p}{1-a} = \\frac{-p + ap + a - ap}{a(1-a)} = \\frac{a-p}{a(1-a)}$$\n",
    "$$E'_a = 0$$\n",
    "$$a(x_i) = p(y_i = 1 |x_i)$$"
   ]
  },
  {
   "cell_type": "markdown",
   "metadata": {},
   "source": [
    "#  Реализация линейной модели (5 баллов)"
   ]
  },
  {
   "cell_type": "markdown",
   "metadata": {},
   "source": [
    "## Зачем нужны батчи?\n"
   ]
  },
  {
   "cell_type": "markdown",
   "metadata": {},
   "source": [
    "Как Вы могли заметить из теоретического введения, что в случае SGD, что в случа mini-batch GD,  на каждой итерации обновление весов  происходит только по небольшой части данных (1 пример в случае SGD, batch примеров в случае mini-batch). То есть для каждой итерации нам *** не нужна вся выборка***. Мы можем просто итерироваться по выборке, беря батч нужного размера (далее 1 объект тоже будем называть батчом).\n",
    "\n",
    "Легко заметить, что в этом случае нам не нужно загружать все данные в оперативную память, достаточно просто считать батч с диска, обновить веса, считать диска другой батч и так далее. В целях упрощения домашней работы, прямо с диска  мы считывать не будем, будем работать с обычными numpy array. \n",
    "\n",
    "\n",
    "\n"
   ]
  },
  {
   "cell_type": "markdown",
   "metadata": {},
   "source": [
    "## Немножко про генераторы в Python\n",
    "\n"
   ]
  },
  {
   "cell_type": "markdown",
   "metadata": {},
   "source": [
    "Идея считывания данных кусками удачно ложится на так называемые ***генераторы*** из языка Python. В данной работе Вам предлагается не только разобраться с логистической регрессией, но  и познакомиться с таким важным элементом языка.  При желании Вы можете убрать весь код, связанный с генераторами, и реализовать логистическую регрессию и без них, ***штрафоваться это никак не будет***. Главное, чтобы сама модель была реализована правильно, и все пункты были выполнены. \n",
    "\n",
    "Подробнее можно почитать вот тут https://anandology.com/python-practice-book/iterators.html\n"
   ]
  },
  {
   "cell_type": "markdown",
   "metadata": {},
   "source": [
    "К генератору стоит относиться просто как к функции, которая порождает не один объект, а целую последовательность объектов. Новое значение из последовательности генерируется с помощью ключевого слова ***yield***. Ниже Вы можете насладиться  генератором чисел Фибоначчи."
   ]
  },
  {
   "cell_type": "code",
   "execution_count": 7,
   "metadata": {
    "collapsed": true
   },
   "outputs": [],
   "source": [
    "def fib(max_iter=4):\n",
    "    a, b = 0, 1\n",
    "    iter_num = 0\n",
    "    while 1:\n",
    "        yield a\n",
    "        a, b = b, a + b\n",
    "        iter_num += 1\n",
    "        if iter_num == max_iter:\n",
    "            break"
   ]
  },
  {
   "cell_type": "markdown",
   "metadata": {},
   "source": [
    "Вот так можно сгенерировать последовательность Фибоначчи. \n",
    "\n",
    "Заметьте, что к генераторам можно применять некоторые стандартные функции из Python, например enumerate."
   ]
  },
  {
   "cell_type": "code",
   "execution_count": 8,
   "metadata": {},
   "outputs": [
    {
     "name": "stdout",
     "output_type": "stream",
     "text": [
      "Fib num: 0 fib values: 0\n",
      "Fib num: 1 fib values: 1\n",
      "Fib num: 2 fib values: 1\n",
      "Fib num: 3 fib values: 2\n"
     ]
    }
   ],
   "source": [
    "new_generator = fib()\n",
    "for j, fib_val in enumerate(new_generator):\n",
    "    print (\"Fib num: \" + str(j) + \" fib values: \" + str(fib_val))"
   ]
  },
  {
   "cell_type": "markdown",
   "metadata": {},
   "source": [
    "Пересоздавая объект, можно сколько угодно раз генерировать заново последовательность. "
   ]
  },
  {
   "cell_type": "code",
   "execution_count": 9,
   "metadata": {},
   "outputs": [
    {
     "name": "stdout",
     "output_type": "stream",
     "text": [
      "Fib num: 0 fib values: 0\n",
      "Fib num: 1 fib values: 1\n",
      "Fib num: 2 fib values: 1\n",
      "Fib num: 3 fib values: 2\n",
      "Fib num: 0 fib values: 0\n",
      "Fib num: 1 fib values: 1\n",
      "Fib num: 2 fib values: 1\n",
      "Fib num: 3 fib values: 2\n",
      "Fib num: 0 fib values: 0\n",
      "Fib num: 1 fib values: 1\n",
      "Fib num: 2 fib values: 1\n",
      "Fib num: 3 fib values: 2\n"
     ]
    }
   ],
   "source": [
    "for i in range(0, 3):\n",
    "    new_generator = fib()\n",
    "    for j, fib_val in enumerate(new_generator):\n",
    "        print (\"Fib num: \" + str(j) + \" fib values: \" + str(fib_val))"
   ]
  },
  {
   "cell_type": "markdown",
   "metadata": {},
   "source": [
    "А вот так уже нельзя."
   ]
  },
  {
   "cell_type": "code",
   "execution_count": 10,
   "metadata": {},
   "outputs": [
    {
     "name": "stdout",
     "output_type": "stream",
     "text": [
      "Fib num: 0 fib values: 0\n",
      "Fib num: 1 fib values: 1\n",
      "Fib num: 2 fib values: 1\n",
      "Fib num: 3 fib values: 2\n"
     ]
    }
   ],
   "source": [
    "new_generator = fib()\n",
    "for i in range(0, 3):\n",
    "    for j, fib_val in enumerate(new_generator):\n",
    "        print (\"Fib num: \" + str(j) + \" fib values: \" + str(fib_val))"
   ]
  },
  {
   "cell_type": "markdown",
   "metadata": {},
   "source": [
    "Концепция крайне удобная для обучения  моделей $-$ у Вас есть некий источник данных, который Вам выдает их кусками, и Вам совершенно все равно откуда он их берет. Под ним может скрывать как массив в оперативной памяти, как файл на жестком диске, так и SQL база данных. Вы сами данные никуда не сохраняете, оперативную память экономите."
   ]
  },
  {
   "cell_type": "markdown",
   "metadata": {},
   "source": [
    "Если Вам понравилась идея с генераторами, то Вы можете реализовать свой, используя прототип batch_generator. В нем Вам нужно выдавать батчи признаков и ответов для каждой новой итерации спуска. Если не понравилась идея, то можете реализовывать SGD или mini-batch GD без генераторов."
   ]
  },
  {
   "cell_type": "code",
   "execution_count": 39,
   "metadata": {
    "collapsed": true
   },
   "outputs": [],
   "source": [
    "#%%pycodestyle\n",
    "def batch_generator(X, y, shuffle=True, batch_size=1):\n",
    "    \"\"\"\n",
    "    Гератор новых батчей для обучения\n",
    "    X          - матрица объекты-признаки\n",
    "    y_batch    - вектор ответов\n",
    "    shuffle    - нужно ли случайно перемешивать выборку\n",
    "    batch_size - размер батча ( 1 это SGD, > 1 mini-batch GD)\n",
    "    Генерирует подвыборку для итерации спуска (X_batch, y_batch)\n",
    "    \"\"\"\n",
    "    if shuffle is True:\n",
    "        shuffle_index = np.arange(len(y))\n",
    "        np.random.shuffle(shuffle_index)\n",
    "        X = X[shuffle_index]\n",
    "        y = y[shuffle_index]\n",
    "    X_batch = np.empty((batch_size, X.shape[1]))\n",
    "    y_batch = np.empty(batch_size)\n",
    "    for i in range(100):\n",
    "        batch_index = np.random.choice(len(y), size=batch_size, replace=False)\n",
    "        X_batch = X[batch_index]\n",
    "        y_batch = y[batch_index]\n",
    "        yield (X_batch, y_batch)\n",
    "\n",
    "# Теперь можно сделать генератор по данным ()\n",
    "#  my_batch_generator = batch_generator(X, y, shuffle=True, batch_size=1):"
   ]
  },
  {
   "cell_type": "code",
   "execution_count": 38,
   "metadata": {
    "collapsed": true
   },
   "outputs": [],
   "source": [
    "#%%pycodestyle\n",
    "\n",
    "\n",
    "def sigmoid(x):\n",
    "    \"\"\"\n",
    "    Вычисляем значение сигмоида.\n",
    "    X - выход линейной модели\n",
    "    \"\"\"\n",
    "    sigm_value_x = 1 / (1 + np.exp(-x))\n",
    "    return sigm_value_x\n",
    "\n",
    "\n",
    "from sklearn.base import BaseEstimator, ClassifierMixin\n",
    "\n",
    "\n",
    "class MySGDClassifier(BaseEstimator, ClassifierMixin):\n",
    "\n",
    "    def __init__(self, batch_generator, C=1, alpha=0.01,\n",
    "                 max_epoch=10, model_type='lin_reg'):\n",
    "        \"\"\"\n",
    "        batch_generator -- функция генератор, которой будем создавать батчи\n",
    "        C - коэф. регуляризации\n",
    "        alpha - скорость спуска\n",
    "        max_epoch - максимальное количество эпох\n",
    "        model_type - тим модели, lin_reg или log_reg\n",
    "        \"\"\"\n",
    "\n",
    "        self.C = C\n",
    "        self.alpha = alpha\n",
    "        self.max_epoch = max_epoch\n",
    "        self.batch_generator = batch_generator\n",
    "        self.errors_log = {'epoch': [], 'loss': []}\n",
    "        self.model_type = model_type\n",
    "\n",
    "    def calc_loss(self, X_batch, y_batch):\n",
    "        \"\"\"\n",
    "        Считаем функцию потерь по батчу\n",
    "        X_batch - матрица объекты-признаки по батчу\n",
    "        y_batch - вектор ответов по батчу\n",
    "        Не забудте тип модели (линейная или логистическая регрессия)!\n",
    "        \"\"\"\n",
    "        if self.model_type == 'lin_reg':\n",
    "            a = np.matmul(X_batch, self.weights)\n",
    "            loss = (np.mean((y_batch - a) ** 2) +\n",
    "                    np.matmul(self.weights.T, self.weights)) / self.C\n",
    "        if self.model_type == 'log_reg':\n",
    "            a = sigmoid(np.matmul(X_batch, self.weights))\n",
    "            loss = (-np.mean(y_batch * np.log2(a) +\n",
    "                             (1 - y_batch) * np.log2(1 - a)) +\n",
    "                    np.matmul(self.weights.T, self.weights) / self.C)\n",
    "        return loss\n",
    "\n",
    "    def calc_loss_grad(self, X_batch, y_batch):\n",
    "        \"\"\"\n",
    "        Считаем  градиент функции потерь по батчу (то что Вы вывели в задании 1)\n",
    "        X_batch - матрица объекты-признаки по батчу\n",
    "        y_batch - вектор ответов по батчу\n",
    "        Не забудте тип модели (линейная или логистическая регрессия)!\n",
    "        \"\"\"\n",
    "        if self.model_type == 'lin_reg':\n",
    "            loss_grad = (np.mean(2 * X_batch *\n",
    "                                 (np.matmul(X_batch, self.weights)\n",
    "                                  - y_batch).reshape(-1, 1), axis=0)\n",
    "                         + 2 * self.weights / self.C)\n",
    "        if self.model_type == 'log_reg':\n",
    "            a = sigmoid(np.matmul(X_batch, self.weights))\n",
    "            loss_grad = np.mean(X_batch * (a - y_batch).reshape(-1, 1),\n",
    "                                axis=0) + 2 * self.weights / self.C\n",
    "        return loss_grad\n",
    "\n",
    "    def update_weights(self, new_grad):\n",
    "        \"\"\"\n",
    "        Обновляем вектор весов\n",
    "        new_grad - градиент по батчу\n",
    "        \"\"\"\n",
    "        self.weights -= self.alpha * new_grad\n",
    "\n",
    "    def fit(self, X, y, batch_size=1):\n",
    "        '''\n",
    "        Обучение модели\n",
    "        X - матрица объекты-признаки\n",
    "        y - вектор ответов\n",
    "        '''\n",
    "\n",
    "        # Нужно инициализровать случайно веса\n",
    "        X = np.concatenate((np.ones([len(X), 1]), X), axis=1)\n",
    "        self.weights = np.random.randn(X.shape[1])\n",
    "        for n in range(0, self.max_epoch):\n",
    "            new_epoch_generator = self.batch_generator(X, y, batch_size)\n",
    "            epoch_mean_loss = 0\n",
    "            for batch_num, new_batch in enumerate(new_epoch_generator):\n",
    "                X_batch = new_batch[0]\n",
    "                y_batch = new_batch[1]\n",
    "                batch_grad = self.calc_loss_grad(X_batch, y_batch)\n",
    "                self.update_weights(batch_grad)\n",
    "                # Подумайте в каком месте стоит посчитать ошибку для отладки модели\n",
    "                batch_loss = self.calc_loss(X_batch, y_batch)\n",
    "                epoch_mean_loss += batch_loss\n",
    "            epoch_mean_loss /= 100\n",
    "            self.errors_log['epoch'].append(n)\n",
    "            self.errors_log['loss'].append(epoch_mean_loss)\n",
    "\n",
    "        return self\n",
    "\n",
    "    def predict(self, X):\n",
    "        '''\n",
    "        Предсказание класса\n",
    "        X - матрица объекты-признаки\n",
    "        Не забудте тип модели (линейная или логистическая регрессия)!\n",
    "        '''\n",
    "        X = np.concatenate((np.ones([len(X), 1]), X), axis=1)\n",
    "        y_hat = np.zeros(len(np.matmul(X, self.weights)), dtype=int)\n",
    "        if self.model_type == 'lin_reg':\n",
    "            y_hat = (1 + np.sign(np.matmul(X, self.weights))) / 2\n",
    "        if self.model_type == 'log_reg':\n",
    "            for i, el in enumerate(sigmoid(np.matmul(X, self.weights))):\n",
    "                if el > 0.5:\n",
    "                    y_hat[i] = 1\n",
    "                else:\n",
    "                    y_hat[i] = 0\n",
    "        # Желательно здесь использовать матричные операции между X и весами, например, numpy.dot \n",
    "        return y_hat"
   ]
  },
  {
   "cell_type": "markdown",
   "metadata": {},
   "source": [
    "Запустите обе регрессии на синтетических данных. \n",
    "\n",
    "\n",
    "Выведите полученные веса и нарисуйте разделяющую границу между классами (используйте только первых два веса для первых двух признаков X[:,0], X[:,1] для отображения в 2d пространство ).  "
   ]
  },
  {
   "cell_type": "code",
   "execution_count": 42,
   "metadata": {
    "collapsed": true
   },
   "outputs": [],
   "source": [
    "#%%pycodestyle\n",
    "def plot_decision_boundary(clf):\n",
    "    ## Your code Here\n",
    "    q = np.array([-5, 8])\n",
    "    func = (-(clf.weights[1] / clf.weights[2]) *\n",
    "            q - clf.weights[0] / clf.weights[2])\n",
    "    plt.plot(q, func, label=clf.model_type)"
   ]
  },
  {
   "cell_type": "code",
   "execution_count": 49,
   "metadata": {},
   "outputs": [
    {
     "data": {
      "text/plain": [
       "<matplotlib.legend.Legend at 0x1aa5d49cfd0>"
      ]
     },
     "execution_count": 49,
     "metadata": {},
     "output_type": "execute_result"
    },
    {
     "data": {
      "image/png": "[encoded data removed]",
      "text/plain": [
       "<Figure size 432x288 with 1 Axes>"
      ]
     },
     "metadata": {
      "needs_background": "light"
     },
     "output_type": "display_data"
    }
   ],
   "source": [
    "#%%pycodestyle\n",
    "np.random.seed(0)\n",
    "\n",
    "C1 = np.array([[0., -0.8], [1.5, 0.8]])\n",
    "C2 = np.array([[1., -0.7], [2., 0.7]])\n",
    "gauss1 = np.dot(np.random.randn(200, 2) + np.array([5, 3]), C1)\n",
    "gauss2 = np.dot(np.random.randn(200, 2) + np.array([1.5, 0]), C2)\n",
    "\n",
    "X = np.vstack([gauss1, gauss2])\n",
    "y = np.r_[np.ones(200), np.zeros(200)]\n",
    "\n",
    "CLF1 = MySGDClassifier(batch_generator, C=1000, alpha=0.01,\n",
    "                       max_epoch=100, model_type='lin_reg')\n",
    "CLF1.fit(X, 2*y-1, batch_size=10)  # меняем метки на -1 и 1\n",
    "CLF2 = MySGDClassifier(batch_generator, C=1000, alpha=0.01,\n",
    "                       max_epoch=100, model_type='log_reg')\n",
    "CLF2.fit(X, y, batch_size=10)\n",
    "# plot_decision_boundary(your_model)\n",
    "plt.scatter(X[:, 0], X[:, 1], c=y)\n",
    "plot_decision_boundary(CLF1)\n",
    "plot_decision_boundary(CLF2)\n",
    "plt.ylim(-7, 7)\n",
    "plt.legend()"
   ]
  },
  {
   "cell_type": "markdown",
   "metadata": {},
   "source": [
    "Далее будем анализировать Ваш алгоритм. \n",
    "Для этих заданий используйте датасет ниже."
   ]
  },
  {
   "cell_type": "code",
   "execution_count": 6,
   "metadata": {
    "collapsed": true
   },
   "outputs": [],
   "source": [
    "from sklearn.datasets import make_classification"
   ]
  },
  {
   "cell_type": "code",
   "execution_count": 7,
   "metadata": {
    "collapsed": true
   },
   "outputs": [],
   "source": [
    "X, y = make_classification(n_samples=100000, n_features=10, \n",
    "                           n_informative=4, n_redundant=0, \n",
    "                           random_state=123, class_sep=1.0,\n",
    "                           n_clusters_per_class=1)"
   ]
  },
  {
   "cell_type": "markdown",
   "metadata": {},
   "source": [
    "Покажите сходимости обеих регрессией на этом датасете: изобразите график  функции потерь, усредненной по $N$ шагам градиентого спуска, для разных `alpha` (размеров шага). Разные `alpha` расположите на одном графике. \n",
    "\n",
    "$N$ можно брать 10, 50, 100 и т.д. "
   ]
  },
  {
   "cell_type": "markdown",
   "metadata": {},
   "source": [
    "Определял ошибку, усредненную по ста шагам. Тут под эпохой имеется ввиду 100 шагов."
   ]
  },
  {
   "cell_type": "code",
   "execution_count": 53,
   "metadata": {
    "collapsed": true
   },
   "outputs": [
    {
     "data": {
      "text/plain": [
       "<matplotlib.legend.Legend at 0x1aa5d52d940>"
      ]
     },
     "execution_count": 53,
     "metadata": {},
     "output_type": "execute_result"
    },
    {
     "data": {
      "image/png": "[encoded data removed]",
      "text/plain": [
       "<Figure size 432x288 with 2 Axes>"
      ]
     },
     "metadata": {
      "needs_background": "light"
     },
     "output_type": "display_data"
    }
   ],
   "source": [
    "#%%pycodestyle\n",
    "## Your Code Here\n",
    "np.random.seed(0)\n",
    "alphas = [0.00001, 0.0001, 0.001, 0.01]\n",
    "fig = plt.figure()\n",
    "p1 = fig.add_subplot(211)\n",
    "p2 = fig.add_subplot(212)\n",
    "for i in alphas:\n",
    "    CLF1 = MySGDClassifier(batch_generator, 10, i,\n",
    "                           max_epoch=100, model_type='lin_reg')\n",
    "    CLF1.fit(X, y, batch_size=1)\n",
    "    CLF2 = MySGDClassifier(batch_generator, 10, i,\n",
    "                           max_epoch=100, model_type='log_reg')\n",
    "    CLF2.fit(X, y, batch_size=1)\n",
    "    p1.plot(CLF1.errors_log['epoch'], CLF1.errors_log['loss'], label=i)\n",
    "    p2.plot(CLF2.errors_log['epoch'], CLF2.errors_log['loss'], label=i)\n",
    "plt.tight_layout()\n",
    "p1.set_ylabel('loss')\n",
    "p1.set_title('Линейная регрессия')\n",
    "p2.set_title('Логистическая регрессия')\n",
    "p2.set_xlabel('epoch (100 шагов)')\n",
    "p2.set_ylabel('loss')\n",
    "p1.legend()\n",
    "p2.legend()"
   ]
  },
  {
   "cell_type": "markdown",
   "metadata": {},
   "source": [
    "Что Вы можете сказать про сходимость метода при различных `alpha`? Какое значение стоит выбирать для лучшей сходимости?"
   ]
  },
  {
   "cell_type": "markdown",
   "metadata": {},
   "source": [
    "При alpha = 0.00001 сходимость плохая, при остальных значениях довольно быстро сходится. Стоит брать 0.01"
   ]
  },
  {
   "cell_type": "markdown",
   "metadata": {},
   "source": [
    "Изобразите график среднего значения весов для обеих регрессий в зависимости от коеф. регуляризации С из `np.logspace(3, -3, 10)` "
   ]
  },
  {
   "cell_type": "code",
   "execution_count": 63,
   "metadata": {
    "collapsed": true
   },
   "outputs": [
    {
     "name": "stderr",
     "output_type": "stream",
     "text": [
      "C:\\Users\\mserg\\Anaconda3\\lib\\site-packages\\ipykernel_launcher.py:41: RuntimeWarning: overflow encountered in double_scalars\n",
      "C:\\Users\\mserg\\Anaconda3\\lib\\site-packages\\ipykernel_launcher.py:41: RuntimeWarning: overflow encountered in square\n",
      "C:\\Users\\mserg\\Anaconda3\\lib\\site-packages\\ipykernel_launcher.py:57: RuntimeWarning: overflow encountered in true_divide\n",
      "C:\\Users\\mserg\\Anaconda3\\lib\\site-packages\\ipykernel_launcher.py:69: RuntimeWarning: invalid value encountered in subtract\n"
     ]
    },
    {
     "data": {
      "text/plain": [
       "Text(12.5, 0.5, 'weights_mean')"
      ]
     },
     "execution_count": 63,
     "metadata": {},
     "output_type": "execute_result"
    },
    {
     "data": {
      "image/png": "[encoded data removed]",
      "text/plain": [
       "<Figure size 432x288 with 2 Axes>"
      ]
     },
     "metadata": {
      "needs_background": "light"
     },
     "output_type": "display_data"
    }
   ],
   "source": [
    "#%%pycodestyle\n",
    "## Your Code Here\n",
    "fig = plt.figure()\n",
    "p1 = fig.add_subplot(211)\n",
    "p2 = fig.add_subplot(212)\n",
    "C_params = np.logspace(3, -3, 10)\n",
    "weights_mean1 = []\n",
    "weights_mean2 = []\n",
    "for i in C_params:\n",
    "    CLF1 = MySGDClassifier(batch_generator, i, alpha=0.01,\n",
    "                           max_epoch=200, model_type='lin_reg')\n",
    "    CLF1.fit(X, y, batch_size=100)\n",
    "    CLF2 = MySGDClassifier(batch_generator, i, alpha=0.01,\n",
    "                           max_epoch=200, model_type='lin_reg')\n",
    "    CLF2.fit(X, y, batch_size=100)\n",
    "    weights_mean1.append(np.mean(CLF1.weights))\n",
    "    weights_mean2.append(np.mean(CLF2.weights))\n",
    "p1.plot(list(range(10)), weights_mean1)\n",
    "p2.plot(list(range(10)), weights_mean2)\n",
    "plt.tight_layout()\n",
    "p1.set_ylabel('weights_mean')\n",
    "p1.set_title('Линейная регрессия')\n",
    "p2.set_title('Логистическая регрессия')\n",
    "p2.set_ylabel('weights_mean')"
   ]
  },
  {
   "cell_type": "markdown",
   "metadata": {},
   "source": [
    "Довольны ли Вы, насколько сильно уменьшились Ваши веса? "
   ]
  },
  {
   "cell_type": "markdown",
   "metadata": {},
   "source": [
    "Веса уменьшились заметно"
   ]
  },
  {
   "cell_type": "markdown",
   "metadata": {},
   "source": [
    "# Боевое применение (3  балла)"
   ]
  },
  {
   "cell_type": "markdown",
   "metadata": {},
   "source": [
    "Давайте применим модель на итоговом проекте! Датасет сделаем точно таким же образом, как было показано в project_overview-2.ipynb\n",
    "\n",
    "Применим обе регрессии, подберем для них параметры и сравним качество. Может быть Вы еще одновременно с решением домашней работы подрастете на лидерборде!"
   ]
  },
  {
   "cell_type": "code",
   "execution_count": 56,
   "metadata": {},
   "outputs": [
    {
     "name": "stdout",
     "output_type": "stream",
     "text": [
      "28026\n"
     ]
    }
   ],
   "source": [
    "#%%pycodestyle\n",
    "doc_to_title = {}\n",
    "with open('docs_titles.tsv', encoding='utf-8') as f:\n",
    "    for num_line, line in enumerate(f):\n",
    "        if num_line == 0:\n",
    "            continue\n",
    "        data = line.strip().split('\\t', 1)\n",
    "        doc_id = int(data[0])\n",
    "        if len(data) == 1:\n",
    "            title = ''\n",
    "        else:\n",
    "            title = data[1]\n",
    "        doc_to_title[doc_id] = title\n",
    "print(len(doc_to_title))"
   ]
  },
  {
   "cell_type": "code",
   "execution_count": 58,
   "metadata": {
    "collapsed": true
   },
   "outputs": [],
   "source": [
    "#%%pycodestyle\n",
    "train_data = pd.read_csv('train_groups.csv')\n",
    "traingroups_titledata = {}\n",
    "for i in range(len(train_data)):\n",
    "    new_doc = train_data.iloc[i]\n",
    "    doc_group = new_doc['group_id']\n",
    "    doc_id = new_doc['doc_id']\n",
    "    target = new_doc['target']\n",
    "    title = doc_to_title[doc_id]\n",
    "    if doc_group not in traingroups_titledata:\n",
    "        traingroups_titledata[doc_group] = []\n",
    "    traingroups_titledata[doc_group].append((doc_id, title, target))"
   ]
  },
  {
   "cell_type": "code",
   "execution_count": 61,
   "metadata": {},
   "outputs": [
    {
     "name": "stdout",
     "output_type": "stream",
     "text": [
      "(11690, 15) (11690,) (11690,)\n"
     ]
    }
   ],
   "source": [
    "#%%pycodestyle\n",
    "y_train = []\n",
    "X_train = []\n",
    "groups_train = []\n",
    "for new_group in traingroups_titledata:\n",
    "    docs = traingroups_titledata[new_group]\n",
    "    for k, (doc_id, title, target_id) in enumerate(docs):\n",
    "        y_train.append(target_id)\n",
    "        groups_train.append(new_group)\n",
    "        all_dist = []\n",
    "        words = set(title.strip().split())\n",
    "        for j in range(0, len(docs)):\n",
    "            if k == j:\n",
    "                continue\n",
    "            doc_id_j, title_j, target_j = docs[j]\n",
    "            words_j = set(title_j.strip().split())\n",
    "            all_dist.append(len(words.intersection(words_j)))\n",
    "        X_train.append(sorted(all_dist, reverse=True)[0:15])\n",
    "X_train = np.array(X_train)\n",
    "y_train = np.array(y_train)\n",
    "groups_train = np.array(groups_train)\n",
    "print(X_train.shape, y_train.shape, groups_train.shape)"
   ]
  },
  {
   "cell_type": "markdown",
   "metadata": {},
   "source": [
    "Подберите размер батча для обучения. Линейная модель не должна учиться дольше нескольких минут. \n",
    "\n",
    "Не забывайте использовать скейлер!"
   ]
  },
  {
   "cell_type": "code",
   "execution_count": 62,
   "metadata": {
    "collapsed": true
   },
   "outputs": [],
   "source": [
    "from sklearn.metrics import f1_score\n",
    "from sklearn.linear_model import LinearRegression\n",
    "from sklearn.preprocessing import StandardScaler"
   ]
  },
  {
   "cell_type": "code",
   "execution_count": 63,
   "metadata": {
    "collapsed": true
   },
   "outputs": [
    {
     "name": "stderr",
     "output_type": "stream",
     "text": [
      "C:\\Users\\mserg\\Anaconda3\\lib\\site-packages\\sklearn\\utils\\validation.py:595: DataConversionWarning: Data with input dtype int32 was converted to float64 by StandardScaler.\n",
      "  warnings.warn(msg, DataConversionWarning)\n",
      "C:\\Users\\mserg\\Anaconda3\\lib\\site-packages\\sklearn\\utils\\validation.py:595: DataConversionWarning: Data with input dtype int32 was converted to float64 by StandardScaler.\n",
      "  warnings.warn(msg, DataConversionWarning)\n"
     ]
    }
   ],
   "source": [
    "from sklearn.preprocessing import StandardScaler\n",
    "scaler = StandardScaler()\n",
    "scaler.fit(X_train)\n",
    "X_scaled = scaler.transform(X_train)"
   ]
  },
  {
   "cell_type": "markdown",
   "metadata": {},
   "source": [
    "Разбейте данные на обучение и валидацию. Подберите параметры C, alpha, max_epoch, model_type на валидации (Вы же помните, как правильно в этой задаче делать валидацию?)"
   ]
  },
  {
   "cell_type": "markdown",
   "metadata": {},
   "source": [
    "Разбиваем данные по группам в отношении примерно 60 к 40"
   ]
  },
  {
   "cell_type": "code",
   "execution_count": 65,
   "metadata": {
    "collapsed": true
   },
   "outputs": [],
   "source": [
    "Xtr = X_scaled[:7974]\n",
    "ytr = y_train[:7974]\n",
    "gtr = groups_train[:7974]\n",
    "Xval = X_scaled[7974:]\n",
    "yval = y_train[7974:]\n",
    "gval = groups_train[7974:]"
   ]
  },
  {
   "cell_type": "code",
   "execution_count": 64,
   "metadata": {
    "collapsed": true
   },
   "outputs": [
    {
     "name": "stdout",
     "output_type": "stream",
     "text": [
      "Params: lin_reg 30 0.0001 100 10\n",
      "F1_score: 0.4336545589325426\n",
      "Params: lin_reg 30 0.0001 100 100\n",
      "F1_score: 0.4460570875665215\n",
      "Params: lin_reg 30 0.0001 100 1000\n",
      "F1_score: 0.43372578807443984\n",
      "Params: lin_reg 30 0.0001 1000 10\n",
      "F1_score: 0.43852556480380495\n",
      "Params: lin_reg 30 0.0001 1000 100\n",
      "F1_score: 0.4345955249569707\n",
      "Params: lin_reg 30 0.0001 1000 1000\n",
      "F1_score: 0.41539763113367173\n",
      "Params: lin_reg 30 0.0001 3000 10\n",
      "F1_score: 0.43333333333333335\n",
      "Params: lin_reg 30 0.0001 3000 100\n",
      "F1_score: 0.4259344716197508\n",
      "Params: lin_reg 30 0.0001 3000 1000\n",
      "F1_score: 0.44217926186291745\n",
      "Params: lin_reg 30 0.001 100 10\n",
      "F1_score: 0.5027961362480935\n",
      "Params: lin_reg 30 0.001 100 100\n",
      "F1_score: 0.42739443872296606\n",
      "Params: lin_reg 30 0.001 100 1000\n",
      "F1_score: 0.36498973305954824\n",
      "Params: lin_reg 30 0.001 1000 10\n",
      "F1_score: 0.48914399800349384\n",
      "Params: lin_reg 30 0.001 1000 100\n",
      "F1_score: 0.4178804620793571\n",
      "Params: lin_reg 30 0.001 1000 1000\n",
      "F1_score: 0.4391227627930426\n",
      "Params: lin_reg 30 0.001 3000 10\n",
      "F1_score: 0.43387419426539225\n",
      "Params: lin_reg 30 0.001 3000 100\n",
      "F1_score: 0.439495174461767\n",
      "Params: lin_reg 30 0.001 3000 1000\n",
      "F1_score: 0.38961734011238963\n",
      "Params: lin_reg 30 0.01 100 10\n",
      "F1_score: 0.48124428179322964\n",
      "Params: lin_reg 30 0.01 100 100\n",
      "F1_score: 0.30421179302045726\n",
      "Params: lin_reg 30 0.01 100 1000\n",
      "F1_score: 0.5164394546912591\n",
      "Params: lin_reg 30 0.01 1000 10\n",
      "F1_score: 0.4971153846153846\n",
      "Params: lin_reg 30 0.01 1000 100\n",
      "F1_score: 0.4413006756756757\n",
      "Params: lin_reg 30 0.01 1000 1000\n",
      "F1_score: 0.5034930139720559\n",
      "Params: lin_reg 30 0.01 3000 10\n",
      "F1_score: 0.5928066795118817\n",
      "Params: lin_reg 30 0.01 3000 100\n",
      "F1_score: 0.46567967698519513\n",
      "Params: lin_reg 30 0.01 3000 1000\n",
      "F1_score: 0.4575163398692811\n",
      "Params: lin_reg 100 0.0001 100 10\n",
      "F1_score: 0.4187385501177703\n",
      "Params: lin_reg 100 0.0001 100 100\n",
      "F1_score: 0.4362576199310893\n",
      "Params: lin_reg 100 0.0001 100 1000\n",
      "F1_score: 0.4516129032258064\n",
      "Params: lin_reg 100 0.0001 1000 10\n",
      "F1_score: 0.4494825036964021\n",
      "Params: lin_reg 100 0.0001 1000 100\n",
      "F1_score: 0.3880108991825613\n",
      "Params: lin_reg 100 0.0001 1000 1000\n",
      "F1_score: 0.43295803480040945\n",
      "Params: lin_reg 100 0.0001 3000 10\n",
      "F1_score: 0.45612134344528715\n",
      "Params: lin_reg 100 0.0001 3000 100\n",
      "F1_score: 0.44174410293066474\n",
      "Params: lin_reg 100 0.0001 3000 1000\n",
      "F1_score: 0.4109589041095891\n",
      "Params: lin_reg 100 0.001 100 10\n",
      "F1_score: 0.45090137857900314\n",
      "Params: lin_reg 100 0.001 100 100\n",
      "F1_score: 0.4523756413116217\n",
      "Params: lin_reg 100 0.001 100 1000\n",
      "F1_score: 0.49444444444444446\n",
      "Params: lin_reg 100 0.001 1000 10\n",
      "F1_score: 0.44648829431438125\n",
      "Params: lin_reg 100 0.001 1000 100\n",
      "F1_score: 0.45924908424908417\n",
      "Params: lin_reg 100 0.001 1000 1000\n",
      "F1_score: 0.4530774631406505\n",
      "Params: lin_reg 100 0.001 3000 10\n",
      "F1_score: 0.44648829431438125\n",
      "Params: lin_reg 100 0.001 3000 100\n",
      "F1_score: 0.41978122151321784\n",
      "Params: lin_reg 100 0.001 3000 1000\n",
      "F1_score: 0.4899178491411501\n",
      "Params: lin_reg 100 0.01 100 10\n",
      "F1_score: 0.447063776047148\n",
      "Params: lin_reg 100 0.01 100 100\n",
      "F1_score: 0.44648829431438125\n",
      "Params: lin_reg 100 0.01 100 1000\n",
      "F1_score: 0.44648829431438125\n",
      "Params: lin_reg 100 0.01 1000 10\n",
      "F1_score: 0.507150153217569\n",
      "Params: lin_reg 100 0.01 1000 100\n",
      "F1_score: 0.4428540446757753\n",
      "Params: lin_reg 100 0.01 1000 1000\n",
      "F1_score: 0.5366520787746171\n",
      "Params: lin_reg 100 0.01 3000 10\n",
      "F1_score: 0.44648829431438125\n",
      "Params: lin_reg 100 0.01 3000 100\n",
      "F1_score: 0.5079285174930783\n",
      "Params: lin_reg 100 0.01 3000 1000\n",
      "F1_score: 0.3988690735102219\n",
      "Params: lin_reg 300 0.0001 100 10\n",
      "F1_score: 0.44671465056884135\n",
      "Params: lin_reg 300 0.0001 100 100\n",
      "F1_score: 0.4261236652594984\n",
      "Params: lin_reg 300 0.0001 100 1000\n",
      "F1_score: 0.420401089378559\n",
      "Params: lin_reg 300 0.0001 1000 10\n",
      "F1_score: 0.4664406779661017\n",
      "Params: lin_reg 300 0.0001 1000 100\n",
      "F1_score: 0.46833292890075223\n",
      "Params: lin_reg 300 0.0001 1000 1000\n",
      "F1_score: 0.4316443594646272\n",
      "Params: lin_reg 300 0.0001 3000 10\n",
      "F1_score: 0.457196174480989\n",
      "Params: lin_reg 300 0.0001 3000 100\n",
      "F1_score: 0.42590775269872433\n",
      "Params: lin_reg 300 0.0001 3000 1000\n",
      "F1_score: 0.4574982722874914\n",
      "Params: lin_reg 300 0.001 100 10\n",
      "F1_score: 0.47503373819163297\n",
      "Params: lin_reg 300 0.001 100 100\n",
      "F1_score: 0.45314505776636715\n",
      "Params: lin_reg 300 0.001 100 1000\n",
      "F1_score: 0.48345323741007196\n",
      "Params: lin_reg 300 0.001 1000 10\n",
      "F1_score: 0.44648829431438125\n",
      "Params: lin_reg 300 0.001 1000 100\n",
      "F1_score: 0.4486099410278011\n",
      "Params: lin_reg 300 0.001 1000 1000\n",
      "F1_score: 0.49442018437651625\n",
      "Params: lin_reg 300 0.001 3000 10\n",
      "F1_score: 0.44648829431438125\n",
      "Params: lin_reg 300 0.001 3000 100\n",
      "F1_score: 0.44648829431438125\n",
      "Params: lin_reg 300 0.001 3000 1000\n",
      "F1_score: 0.449005501481168\n",
      "Params: lin_reg 300 0.01 100 10\n",
      "F1_score: 0.5001222195062333\n",
      "Params: lin_reg 300 0.01 100 100\n",
      "F1_score: 0.5068562722194008\n",
      "Params: lin_reg 300 0.01 100 1000\n",
      "F1_score: 0.41620231461637375\n",
      "Params: lin_reg 300 0.01 1000 10\n",
      "F1_score: 0.5138135812032016\n",
      "Params: lin_reg 300 0.01 1000 100\n",
      "F1_score: 0.5130836326321191\n",
      "Params: lin_reg 300 0.01 1000 1000\n",
      "F1_score: 0.5037110341415141\n",
      "Params: lin_reg 300 0.01 3000 10\n",
      "F1_score: 0.4466750313676286\n",
      "Params: lin_reg 300 0.01 3000 100\n",
      "F1_score: 0.38025675077467913\n",
      "Params: lin_reg 300 0.01 3000 1000\n",
      "F1_score: 0.5453029460811561\n",
      "Params: log_reg 30 0.0001 100 10\n",
      "F1_score: 0.5211370262390671\n",
      "Params: log_reg 30 0.0001 100 100\n",
      "F1_score: 0.13729653220099078\n",
      "Params: log_reg 30 0.0001 100 1000\n",
      "F1_score: 0.11083830235005261\n",
      "Params: log_reg 30 0.0001 1000 10\n",
      "F1_score: 0.5514124293785311\n",
      "Params: log_reg 30 0.0001 1000 100\n",
      "F1_score: 0.5762929649855445\n",
      "Params: log_reg 30 0.0001 1000 1000\n",
      "F1_score: 0.6416408668730651\n",
      "Params: log_reg 30 0.0001 3000 10\n",
      "F1_score: 0.16834022445363261\n",
      "Params: log_reg 30 0.0001 3000 100\n",
      "F1_score: 0.5618897637795275\n",
      "Params: log_reg 30 0.0001 3000 1000\n",
      "F1_score: 0.26816479400749066\n",
      "Params: log_reg 30 0.001 100 10\n",
      "F1_score: 0.6372881355932203\n",
      "Params: log_reg 30 0.001 100 100\n",
      "F1_score: 0.6113360323886641\n",
      "Params: log_reg 30 0.001 100 1000\n",
      "F1_score: 0.6060155959896028\n",
      "Params: log_reg 30 0.001 1000 10\n",
      "F1_score: 0.5524402907580478\n",
      "Params: log_reg 30 0.001 1000 100\n",
      "F1_score: 0.5842696629213483\n",
      "Params: log_reg 30 0.001 1000 1000\n",
      "F1_score: 0.5544933078393881\n",
      "Params: log_reg 30 0.001 3000 10\n",
      "F1_score: 0.6240639041437844\n",
      "Params: log_reg 30 0.001 3000 100\n",
      "F1_score: 0.5917431192660549\n",
      "Params: log_reg 30 0.001 3000 1000\n",
      "F1_score: 0.5878548329141214\n",
      "Params: log_reg 30 0.01 100 10\n",
      "F1_score: 0.6455331412103748\n",
      "Params: log_reg 30 0.01 100 100\n",
      "F1_score: 0.506268656716418\n",
      "Params: log_reg 30 0.01 100 1000\n",
      "F1_score: 0.6307385229540918\n",
      "Params: log_reg 30 0.01 1000 10\n",
      "F1_score: 0.632\n",
      "Params: log_reg 30 0.01 1000 100\n",
      "F1_score: 0.535840188014101\n",
      "Params: log_reg 30 0.01 1000 1000\n",
      "F1_score: 0.6067073170731707\n",
      "Params: log_reg 30 0.01 3000 10\n",
      "F1_score: 0.639064783244033\n",
      "Params: log_reg 30 0.01 3000 100\n",
      "F1_score: 0.5837837837837837\n",
      "Params: log_reg 30 0.01 3000 1000\n",
      "F1_score: 0.5551246537396122\n",
      "Params: log_reg 100 0.0001 100 10\n",
      "F1_score: 0.5708488332769699\n",
      "Params: log_reg 100 0.0001 100 100\n",
      "F1_score: 0.6336813436223332\n",
      "Params: log_reg 100 0.0001 100 1000\n",
      "F1_score: 0.5526315789473685\n",
      "Params: log_reg 100 0.0001 1000 10\n",
      "F1_score: 0.5880077369439072\n",
      "Params: log_reg 100 0.0001 1000 100\n",
      "F1_score: 0.27565543071161047\n",
      "Params: log_reg 100 0.0001 1000 1000\n",
      "F1_score: 0.34032059186189895\n",
      "Params: log_reg 100 0.0001 3000 10\n",
      "F1_score: 0.6178128523111612\n",
      "Params: log_reg 100 0.0001 3000 100\n",
      "F1_score: 0.536026936026936\n",
      "Params: log_reg 100 0.0001 3000 1000\n",
      "F1_score: 0.5580645161290323\n",
      "Params: log_reg 100 0.001 100 10\n",
      "F1_score: 0.6283783783783783\n",
      "Params: log_reg 100 0.001 100 100\n",
      "F1_score: 0.5968045112781954\n",
      "Params: log_reg 100 0.001 100 1000\n",
      "F1_score: 0.5892682926829268\n",
      "Params: log_reg 100 0.001 1000 10\n",
      "F1_score: 0.6304239401496259\n",
      "Params: log_reg 100 0.001 1000 100\n",
      "F1_score: 0.5882951653944021\n",
      "Params: log_reg 100 0.001 1000 1000\n",
      "F1_score: 0.568759730150493\n",
      "Params: log_reg 100 0.001 3000 10\n",
      "F1_score: 0.6282619399310685\n",
      "Params: log_reg 100 0.001 3000 100\n",
      "F1_score: 0.5912486659551761\n",
      "Params: log_reg 100 0.001 3000 1000\n",
      "F1_score: 0.5881348698250106\n",
      "Params: log_reg 100 0.01 100 10\n",
      "F1_score: 0.6427906976744185\n",
      "Params: log_reg 100 0.01 100 100\n",
      "F1_score: 0.6197916666666667\n",
      "Params: log_reg 100 0.01 100 1000\n",
      "F1_score: 0.5856107083100949\n",
      "Params: log_reg 100 0.01 1000 10\n",
      "F1_score: 0.6463588767253688\n",
      "Params: log_reg 100 0.01 1000 100\n",
      "F1_score: 0.5634285714285715\n",
      "Params: log_reg 100 0.01 1000 1000\n",
      "F1_score: 0.5406340057636888\n",
      "Params: log_reg 100 0.01 3000 10\n",
      "F1_score: 0.5987958401751506\n",
      "Params: log_reg 100 0.01 3000 100\n",
      "F1_score: 0.6058394160583942\n",
      "Params: log_reg 100 0.01 3000 1000\n",
      "F1_score: 0.5934302638664513\n",
      "Params: log_reg 300 0.0001 100 10\n",
      "F1_score: 0.6054181389870437\n",
      "Params: log_reg 300 0.0001 100 100\n",
      "F1_score: 0.578504210004953\n",
      "Params: log_reg 300 0.0001 100 1000\n",
      "F1_score: 0.6026609133405251\n",
      "Params: log_reg 300 0.0001 1000 10\n",
      "F1_score: 0.5989986345015931\n",
      "Params: log_reg 300 0.0001 1000 100\n",
      "F1_score: 0.5994397759103641\n",
      "Params: log_reg 300 0.0001 1000 1000\n",
      "F1_score: 0.5864037363777894\n",
      "Params: log_reg 300 0.0001 3000 10\n",
      "F1_score: 0.5930408472012103\n",
      "Params: log_reg 300 0.0001 3000 100\n",
      "F1_score: 0.5729499467518637\n",
      "Params: log_reg 300 0.0001 3000 1000\n",
      "F1_score: 0.5902578796561605\n",
      "Params: log_reg 300 0.001 100 10\n",
      "F1_score: 0.6394828443560417\n",
      "Params: log_reg 300 0.001 100 100\n",
      "F1_score: 0.5990286022665947\n",
      "Params: log_reg 300 0.001 100 1000\n",
      "F1_score: 0.5825446898002102\n",
      "Params: log_reg 300 0.001 1000 10\n",
      "F1_score: 0.6346534653465347\n",
      "Params: log_reg 300 0.001 1000 100\n",
      "F1_score: 0.5995762711864406\n",
      "Params: log_reg 300 0.001 1000 1000\n",
      "F1_score: 0.5093023255813952\n",
      "Params: log_reg 300 0.001 3000 10\n",
      "F1_score: 0.6206174777603349\n",
      "Params: log_reg 300 0.001 3000 100\n",
      "F1_score: 0.5630205441421433\n",
      "Params: log_reg 300 0.001 3000 1000\n",
      "F1_score: 0.5636264336428182\n",
      "Params: log_reg 300 0.01 100 10\n",
      "F1_score: 0.6467520151730678\n",
      "Params: log_reg 300 0.01 100 100\n",
      "F1_score: 0.36115107913669064\n",
      "Params: log_reg 300 0.01 100 1000\n",
      "F1_score: 0.5441696113074205\n",
      "Params: log_reg 300 0.01 1000 10\n",
      "F1_score: 0.6217780115728563\n",
      "Params: log_reg 300 0.01 1000 100\n",
      "F1_score: 0.6366336633663366\n",
      "Params: log_reg 300 0.01 1000 1000\n",
      "F1_score: 0.581615598885794\n",
      "Params: log_reg 300 0.01 3000 10\n",
      "F1_score: 0.6239583333333334\n",
      "Params: log_reg 300 0.01 3000 100\n",
      "F1_score: 0.6224328593996841\n",
      "Params: log_reg 300 0.01 3000 1000\n",
      "F1_score: 0.5749032614704256\n"
     ]
    }
   ],
   "source": [
    "#%%pycodestyle\n",
    "for model_type in ['lin_reg', 'log_reg']:\n",
    "    for max_epoch in [30, 100, 300]:\n",
    "        for alpha in [0.0001, 0.001, 0.01]:\n",
    "            for batch_size in [100, 1000, 3000]:\n",
    "                for C in [10, 100, 1000]:\n",
    "                    CLF = MySGDClassifier(batch_generator,C=C,\n",
    "                                          alpha=alpha,\n",
    "                                          max_epoch=max_epoch,\n",
    "                                          model_type=model_type)\n",
    "                    CLF.fit(Xtr, ytr, batch_size=batch_size)\n",
    "                    ypred = CLF.predict(Xval)\n",
    "                    print('Params:', model_type, max_epoch, alpha, batch_size, C)\n",
    "                    print('F1_score:', f1_score(yval, ypred))"
   ]
  },
  {
   "cell_type": "markdown",
   "metadata": {},
   "source": [
    "Выбираем следующие параметры в качестве оптимальных:\n",
    "C=10, alpha=0.01, max_epoch=30, model_type='log_reg', batch_size=1000"
   ]
  },
  {
   "cell_type": "code",
   "execution_count": 12,
   "metadata": {},
   "outputs": [],
   "source": [
    "test_data = pd.read_csv('test_groups.csv')\n",
    "testgroups_titledata = {}\n",
    "for i in range(len(test_data)):\n",
    "    new_doc = test_data.iloc[i]\n",
    "    doc_group = new_doc['group_id']\n",
    "    doc_id = new_doc['doc_id']\n",
    "    title = doc_to_title[doc_id]\n",
    "    if doc_group not in testgroups_titledata:\n",
    "        testgroups_titledata[doc_group] = []\n",
    "    testgroups_titledata[doc_group].append((doc_id, title))"
   ]
  },
  {
   "cell_type": "code",
   "execution_count": 13,
   "metadata": {},
   "outputs": [
    {
     "name": "stdout",
     "output_type": "stream",
     "text": [
      "(16627, 15) (16627,)\n"
     ]
    }
   ],
   "source": [
    "X_test = []\n",
    "groups_test = []\n",
    "for new_group in testgroups_titledata:\n",
    "    docs = testgroups_titledata[new_group]\n",
    "    for k, (doc_id, title) in enumerate(docs):\n",
    "        groups_test.append(new_group)\n",
    "        all_dist = []\n",
    "        words = set(title.strip().split())\n",
    "        for j in range(0, len(docs)):\n",
    "            if k == j:\n",
    "                continue\n",
    "            doc_id_j, title_j = docs[j]\n",
    "            words_j = set(title_j.strip().split())\n",
    "            all_dist.append(len(words.intersection(words_j)))\n",
    "        X_test.append(sorted(all_dist, reverse=True)[0:15])\n",
    "X_test = np.array(X_test)\n",
    "groups_test = np.array(groups_test)\n",
    "print(X_test.shape, groups_test.shape)"
   ]
  },
  {
   "cell_type": "code",
   "execution_count": 14,
   "metadata": {},
   "outputs": [
    {
     "name": "stderr",
     "output_type": "stream",
     "text": [
      "C:\\Users\\mserg\\Anaconda3\\lib\\site-packages\\sklearn\\utils\\validation.py:595: DataConversionWarning: Data with input dtype int32 was converted to float64 by StandardScaler.\n",
      "  warnings.warn(msg, DataConversionWarning)\n",
      "C:\\Users\\mserg\\Anaconda3\\lib\\site-packages\\sklearn\\utils\\validation.py:595: DataConversionWarning: Data with input dtype int32 was converted to float64 by StandardScaler.\n",
      "  warnings.warn(msg, DataConversionWarning)\n"
     ]
    }
   ],
   "source": [
    "scaler = StandardScaler()\n",
    "scaler.fit(X_test)\n",
    "X_test = scaler.transform(X_test)"
   ]
  },
  {
   "cell_type": "code",
   "execution_count": 28,
   "metadata": {},
   "outputs": [],
   "source": [
    "#%%pycodestyle\n",
    "best_clf = MySGDClassifier(batch_generator, C=10,\n",
    "                           alpha=0.01, max_epoch=30,\n",
    "                           model_type='log_reg')\n",
    "best_clf.fit(X_scaled, y_train, batch_size=1000)\n",
    "y_pred = best_clf.predict(X_test)\n",
    "pair = range(11691, 28318)\n",
    "df = pd.DataFrame({'pair_id': pair, 'target': y_pred})\n",
    "df.to_csv('sub.csv', index=False)"
   ]
  },
  {
   "cell_type": "markdown",
   "metadata": {},
   "source": [
    "Скор на kaggle 0.56441 > Baseline (Sergey Mit, команда Нурсултан loss)"
   ]
  },
  {
   "cell_type": "markdown",
   "metadata": {},
   "source": [
    "С лучшими параметрами на валидации сделайте предсказание на тестовом множестве, отправьте его на проверку на платформу kaggle. Убедитесь, что Вы смогли побить public score первого бейзлайна. Если да, то Вы молодец!"
   ]
  },
  {
   "cell_type": "markdown",
   "metadata": {},
   "source": [
    "# Контрольные вопросы\n",
    "Постарайтесь максимально развернуто и честно ответить на вопросы. Они охватывают тему линейных моделей и скорее нужны преподавателям, чтобы понимать, что именно Вы усвоили плохо. Надеюсь, они подскажут, что именно в теме Вы не понимаете или наоборот порадают, что Вы все знаете ^_^"
   ]
  },
  {
   "cell_type": "markdown",
   "metadata": {},
   "source": [
    "* Опишите основные, на Ваш взгляд,  отличия логистической регрессии от линейной регрессии. Почему, на ваш взгляд, задачу классификации решают логистической, а не линейной регрессией?"
   ]
  },
  {
   "cell_type": "markdown",
   "metadata": {},
   "source": [
    "***Ваше ответ здесь***\n",
    "Минимизируются разные функции потерь. Линейная регрессия предсказывает некоторое вещественное число, а логистическая - вещественное число от 0 до 1, которое можно интерпретировать как вероятность принадлежности объекта к классу. Для решения задачи классификации логлосс подходит лучше, так как чем более уверенный ответ дает модель (больше вероятность принадлежности), тем меньше штраф, и наоборот."
   ]
  },
  {
   "cell_type": "markdown",
   "metadata": {},
   "source": [
    "* Как Вы думаете, для каких типов задач (объем данных, число признаков, типы признаков) стоит отдавать предпочтение линейным моделям?"
   ]
  },
  {
   "cell_type": "markdown",
   "metadata": {},
   "source": [
    "***Ваше ответ здесь***\n",
    "Мне кажется, линейная регрессия подходит для любых задач в качетстве нулевого приближения и для первичного анализа данных - модель простая, обучается быстро, ее результаты легко интерпретировать. Минус линейной регрессии - она не находит взаимосвязи между признаками (например, площадь = длина * ширину)"
   ]
  },
  {
   "cell_type": "markdown",
   "metadata": {},
   "source": [
    "* Пусть на обучении мы имеем выборку размера $N$, число признаков $D$. Чему равна алгоритмическая сложность одного шага градиентного спуска? Cтохастического градиентного спуска?  Сложность предсказания на одном объекте?"
   ]
  },
  {
   "cell_type": "markdown",
   "metadata": {},
   "source": [
    "***Ваше ответ здесь***\n",
    "Градиентный спуск: O(ND)\n",
    "Стохастический градиентный спуск: O(D)\n",
    "Предсказание на одном объекте: O(D)"
   ]
  },
  {
   "cell_type": "markdown",
   "metadata": {},
   "source": [
    "* В чем преимущества стохастического градиентного спуска (в том числе мини-батч) над обычным градиентным спуском? В чем его недостатки? Рассмотрите несколько аспектов $-$ скорость сходимости, необходимость загрузки всех данных в оперативную память, сложность вычисления одного шага."
   ]
  },
  {
   "cell_type": "markdown",
   "metadata": {},
   "source": [
    "***Ваше ответ здесь***\n",
    "Из преимуществ - меньшая сложность вычисления, не нужно запоминать все данные. Из недостатков - нужно больше шагов (но все равно быстрее по времени из-за меньшей вычислительной сложности), не гарантируется сходимость."
   ]
  },
  {
   "cell_type": "markdown",
   "metadata": {},
   "source": [
    "* Как Вы думаете, при обучении линейной модели с помощью SGD, ошибку на новом объекте стоит считать до итерации спуска на этом объекте или после? Почему Вы так думаете? Возможно, Вам будет интересно ознакомиться с http://hunch.net/~jl/projects/prediction_bounds/thesis/mathml/thesisse44.xml"
   ]
  },
  {
   "cell_type": "markdown",
   "metadata": {},
   "source": [
    "***Ваше ответ здесь***\n",
    "Думаю, что до, так как этот объект еще не повлиял на обновление, но при достаточно малом шаге - это не так важно."
   ]
  },
  {
   "cell_type": "markdown",
   "metadata": {},
   "source": [
    "* Как Вы думаете, во времена такого бума нейронных сетей, остаются ли популярными линейные модели, или это уже пережиток прошлого? Почему Вы так думаете?"
   ]
  },
  {
   "cell_type": "markdown",
   "metadata": {},
   "source": [
    "***Ваше ответ здесь***\n",
    "Интерпретация результатов нейронных сетей - задача сложная. А линейные модели интерпретируются легко, поэтому там, где важно правильно интерпретировать результат - линейные модели остаются актуальными."
   ]
  },
  {
   "cell_type": "markdown",
   "metadata": {},
   "source": [
    "* Какие аспекты обучения линейных моделей Вам показались непонятными? Какое место стоит дополнительно объяснить?"
   ]
  },
  {
   "cell_type": "markdown",
   "metadata": {},
   "source": [
    "***Ваше ответ здесь***\n",
    "Все понятно, возможно было бы интересно рассмотреть еще какие-нибудь варианты оптимизации."
   ]
  },
  {
   "cell_type": "markdown",
   "metadata": {},
   "source": [
    "Здесь Вы можете оставить отзыв о этой домашней работе или о всем курсе.   "
   ]
  },
  {
   "cell_type": "markdown",
   "metadata": {},
   "source": [
    "*** ВАШ ОТЗЫВ ЗДЕСЬ***"
   ]
  },
  {
   "cell_type": "markdown",
   "metadata": {},
   "source": [
    "Все супер =)"
   ]
  }
 ],
 "metadata": {
  "anaconda-cloud": {},
  "kernelspec": {
   "display_name": "Python 3",
   "language": "python",
   "name": "python3"
  },
  "language_info": {
   "codemirror_mode": {
    "name": "ipython",
    "version": 3
   },
   "file_extension": ".py",
   "mimetype": "text/x-python",
   "name": "python",
   "nbconvert_exporter": "python",
   "pygments_lexer": "ipython3",
   "version": "3.7.1"
  },
  "nav_menu": {},
  "toc": {
   "colors": {
    "hover_highlight": "#DAA520",
    "navigate_num": "#000000",
    "navigate_text": "#333333",
    "running_highlight": "#FF0000",
    "selected_highlight": "#FFD700",
    "sidebar_border": "#EEEEEE",
    "wrapper_background": "#FFFFFF"
   },
   "moveMenuLeft": true,
   "nav_menu": {
    "height": "402px",
    "width": "253px"
   },
   "navigate_menu": true,
   "number_sections": false,
   "sideBar": true,
   "threshold": 4,
   "toc_cell": false,
   "toc_section_display": "block",
   "toc_window_display": true,
   "widenNotebook": false
  }
 },
 "nbformat": 4,
 "nbformat_minor": 2
}
